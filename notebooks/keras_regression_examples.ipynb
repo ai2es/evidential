{
 "cells": [
  {
   "cell_type": "code",
   "execution_count": 1,
   "metadata": {},
   "outputs": [],
   "source": [
    "import numpy as np\n",
    "import pandas as pd\n",
    "import spacy as sp\n",
    "import tensorflow as tf\n",
    "import gc, tqdm, copy\n",
    "\n",
    "import seaborn as sns\n",
    "import matplotlib.pyplot as plt\n",
    "\n",
    "from sklearn.model_selection import train_test_split, GroupShuffleSplit\n",
    "from sklearn.preprocessing import StandardScaler, MinMaxScaler, RobustScaler\n",
    "\n",
    "from functools import partial"
   ]
  },
  {
   "cell_type": "markdown",
   "metadata": {},
   "source": [
    "### A. Examples for estimating uncertainty"
   ]
  },
  {
   "cell_type": "code",
   "execution_count": 2,
   "metadata": {},
   "outputs": [],
   "source": [
    "fn = \"/glade/p/cisl/aiml/fasteddy/idaho_derived_data_20210720.csv\""
   ]
  },
  {
   "cell_type": "code",
   "execution_count": 3,
   "metadata": {},
   "outputs": [],
   "source": [
    "input_cols = [\n",
    "    'wind_speed:10_m:m_s-1',\n",
    "    'potential_temperature_skin_change:10_m:K_m-1',\n",
    "    'bulk_richardson:10_m:None',\n",
    "    'mixing_ratio_skin_change:2_m:g_kg-1_m-1'\n",
    "]\n",
    "output_cols = [\"kinematic_sensible_heat_flux:surface:K_m_s-1\"]"
   ]
  },
  {
   "cell_type": "code",
   "execution_count": 4,
   "metadata": {},
   "outputs": [],
   "source": [
    "data_seed = 0\n",
    "flat_seed = 1000\n",
    "n_splits = 10\n",
    "n_models = 10\n",
    "\n",
    "data = pd.read_csv(fn)\n",
    "data[\"day\"] = data[\"Time\"].apply(lambda x: str(x).split(\" \")[0])\n",
    "\n",
    "# Need the same test_data for all trained models (data and model ensembles)\n",
    "flat_seed = 1000\n",
    "gsp = GroupShuffleSplit(n_splits=1,  random_state = flat_seed, train_size=0.9)\n",
    "splits = list(gsp.split(data, groups = data[\"day\"]))\n",
    "train_index, test_index = splits[0]\n",
    "train_data, test_data = data.iloc[train_index].copy(), data.iloc[test_index].copy() \n",
    "\n",
    "# Make N train-valid splits using day as grouping variable\n",
    "gsp = GroupShuffleSplit(n_splits=n_splits,  random_state = flat_seed, train_size=0.885)\n",
    "splits = list(gsp.split(train_data, groups = train_data[\"day\"]))\n",
    "train_index, valid_index = splits[data_seed]\n",
    "train_data, valid_data = train_data.iloc[train_index].copy(), train_data.iloc[valid_index] .copy()  \n",
    "\n",
    "# Set the seed for the model here\n",
    "#seed_everything(model_seed)"
   ]
  },
  {
   "cell_type": "code",
   "execution_count": 5,
   "metadata": {},
   "outputs": [],
   "source": [
    "x_scaler, y_scaler = RobustScaler(), MinMaxScaler((0, 1))\n",
    "x_train = x_scaler.fit_transform(train_data[input_cols])\n",
    "x_valid = x_scaler.transform(valid_data[input_cols])\n",
    "x_test = x_scaler.transform(test_data[input_cols])\n",
    "\n",
    "y_train = y_scaler.fit_transform(train_data[output_cols])\n",
    "y_valid = y_scaler.transform(valid_data[output_cols])\n",
    "y_test = y_scaler.transform(test_data[output_cols])"
   ]
  },
  {
   "cell_type": "markdown",
   "metadata": {},
   "source": [
    "### 1. Standard MLP to predict some quantity"
   ]
  },
  {
   "cell_type": "code",
   "execution_count": 6,
   "metadata": {},
   "outputs": [],
   "source": [
    "# Write it this way to make it easy for MC dropout\n",
    "\n",
    "class MLP(tf.keras.Model):\n",
    "\n",
    "    def __init__(self):\n",
    "        super().__init__()\n",
    "        self.dense1 = tf.keras.layers.Dense(4500, activation=tf.nn.relu)\n",
    "        self.dense2 = tf.keras.layers.Dense(1, activation=\"linear\")\n",
    "        self.dropout = tf.keras.layers.Dropout(0.25)\n",
    "\n",
    "    def call(self, inputs, training=False):\n",
    "        x = self.dense1(inputs)\n",
    "        if training:\n",
    "            x = self.dropout(x, training=training)\n",
    "        return self.dense2(x)\n",
    "\n",
    "mlp = MLP()"
   ]
  },
  {
   "cell_type": "code",
   "execution_count": 7,
   "metadata": {},
   "outputs": [],
   "source": [
    "optimizer = tf.keras.optimizers.Adam(\n",
    "    learning_rate=1e-5\n",
    ")"
   ]
  },
  {
   "cell_type": "code",
   "execution_count": 8,
   "metadata": {},
   "outputs": [],
   "source": [
    "# compile model\n",
    "mlp.compile(\n",
    "    optimizer = optimizer, \n",
    "    loss = \"mae\",\n",
    "    metrics = ['mae'],\n",
    "    run_eagerly=True\n",
    ")"
   ]
  },
  {
   "cell_type": "code",
   "execution_count": 9,
   "metadata": {},
   "outputs": [],
   "source": [
    "# create early stopping callback\n",
    "callback1 = tf.keras.callbacks.EarlyStopping(\n",
    "    monitor = 'val_mae', \n",
    "    mode = 'min',\n",
    "    patience = 15,\n",
    "    restore_best_weights = True\n",
    ")\n",
    "\n",
    "# create reduce LR callback\n",
    "callback2 = tf.keras.callbacks.ReduceLROnPlateau(\n",
    "    monitor = 'val_mae', \n",
    "    factor = 0.1, \n",
    "    patience = 3, \n",
    "    verbose = 0,\n",
    "    mode = 'min',\n",
    "    min_lr = 1e-7\n",
    ")"
   ]
  },
  {
   "cell_type": "code",
   "execution_count": 10,
   "metadata": {},
   "outputs": [],
   "source": [
    "# fit model to training data\n",
    "history = mlp.fit(\n",
    "    x = x_train, \n",
    "    y = y_train,\n",
    "    validation_data = (x_valid, y_valid),\n",
    "    batch_size = 256,\n",
    "    epochs = 500,\n",
    "    callbacks = [callback1, callback2],\n",
    "    verbose = 0\n",
    ")"
   ]
  },
  {
   "cell_type": "code",
   "execution_count": 11,
   "metadata": {},
   "outputs": [],
   "source": [
    "y_pred = y_scaler.inverse_transform(mlp.predict(x_test))"
   ]
  },
  {
   "cell_type": "code",
   "execution_count": 12,
   "metadata": {},
   "outputs": [],
   "source": [
    "mae = np.mean(np.abs(y_pred[:, 0]-test_data[output_cols[0]]))"
   ]
  },
  {
   "cell_type": "code",
   "execution_count": 13,
   "metadata": {},
   "outputs": [
    {
     "data": {
      "text/plain": [
       "0.015784952560205755"
      ]
     },
     "execution_count": 13,
     "metadata": {},
     "output_type": "execute_result"
    }
   ],
   "source": [
    "mae"
   ]
  },
  {
   "cell_type": "code",
   "execution_count": 14,
   "metadata": {},
   "outputs": [],
   "source": [
    "# del model\n",
    "# tf.keras.backend.clear_session()\n",
    "# gc.collect()"
   ]
  },
  {
   "cell_type": "markdown",
   "metadata": {},
   "source": [
    "### 2. Next, take it one step further with a model for predicting mu and sigma with Gaussian NLL loss"
   ]
  },
  {
   "cell_type": "code",
   "execution_count": 15,
   "metadata": {},
   "outputs": [],
   "source": [
    "def NLL(y_true, y_pred, reduce = True):\n",
    "    A = 0.5 * tf.math.log(2 * np.pi * y_pred[:, 1] + 1e-12) \n",
    "    B = (y_true[:, 0] - y_pred[:, 0]) ** 2 / (2 * y_pred[:, 1] ** 2 + 1e-12)\n",
    "    nll = A + B\n",
    "    return tf.reduce_mean(nll) if reduce else nll\n",
    "\n",
    "def Gaussian_NLL(y, mu, sigma, reduce=True):\n",
    "    ax = list(range(1, len(y.shape)))\n",
    "    logprob = -tf.math.log(sigma) - 0.5*tf.math.log(2*np.pi) - 0.5*((y-mu)/sigma)**2\n",
    "    loss = tf.reduce_mean(-logprob, axis=ax)\n",
    "    return tf.reduce_mean(loss) if reduce else loss\n",
    "\n",
    "def Gaussian_NLL_logvar(y, mu, logvar, reduce=True):\n",
    "    ax = list(range(1, len(y.shape)))\n",
    "    log_liklihood = 0.5 * (\n",
    "        -tf.exp(-logvar)*(mu-y)**2 - tf.math.log(2*tf.constant(np.pi, dtype=logvar.dtype)) - logvar\n",
    "    )\n",
    "    loss = tf.reduce_mean(-log_liklihood, axis=ax)\n",
    "    return tf.reduce_mean(loss) if reduce else loss"
   ]
  },
  {
   "cell_type": "code",
   "execution_count": 16,
   "metadata": {},
   "outputs": [],
   "source": [
    "data_seed = 0\n",
    "flat_seed = 1000\n",
    "\n",
    "data = pd.read_csv(fn)\n",
    "data[\"day\"] = data[\"Time\"].apply(lambda x: str(x).split(\" \")[0])\n",
    "\n",
    "# Need the same test_data for all trained models (data and model ensembles)\n",
    "gsp = GroupShuffleSplit(n_splits=1,  random_state = flat_seed, train_size=0.9)\n",
    "splits = list(gsp.split(data, groups = data[\"day\"]))\n",
    "train_index, test_index = splits[0]\n",
    "train_data, test_data = data.iloc[train_index].copy(), data.iloc[test_index].copy() \n",
    "\n",
    "# Make N train-valid splits using day as grouping variable\n",
    "gsp = GroupShuffleSplit(n_splits=n_splits,  random_state = flat_seed, train_size=0.885)\n",
    "splits = list(gsp.split(train_data, groups = train_data[\"day\"]))\n",
    "train_index, valid_index = splits[data_seed]\n",
    "train_data, valid_data = train_data.iloc[train_index].copy(), train_data.iloc[valid_index] .copy()  \n",
    "\n",
    "x_scaler, y_scaler = RobustScaler(), MinMaxScaler((0, 1))\n",
    "x_train = x_scaler.fit_transform(train_data[input_cols])\n",
    "x_valid = x_scaler.transform(valid_data[input_cols])\n",
    "x_test = x_scaler.transform(test_data[input_cols])\n",
    "\n",
    "y_train = y_scaler.fit_transform(train_data[output_cols])\n",
    "y_valid = y_scaler.transform(valid_data[output_cols])\n",
    "y_test = y_scaler.transform(test_data[output_cols])"
   ]
  },
  {
   "cell_type": "code",
   "execution_count": 17,
   "metadata": {},
   "outputs": [],
   "source": [
    "class DenseNormal(Layer):\n",
    "    def __init__(self, units):\n",
    "        super(DenseNormal, self).__init__()\n",
    "        self.units = int(units)\n",
    "        self.dense = Dense(2 * self.units)\n",
    "\n",
    "    def call(self, x):\n",
    "        output = self.dense(x)\n",
    "        mu, logsigma = tf.split(output, 2, axis=-1)\n",
    "        sigma = tf.nn.softplus(logsigma) + 1e-6\n",
    "        return tf.concat([mu, sigma], axis=-1)\n",
    "\n",
    "    def compute_output_shape(self, input_shape):\n",
    "        return (input_shape[0], 2 * self.units)\n",
    "\n",
    "    def get_config(self):\n",
    "        base_config = super(DenseNormal, self).get_config()\n",
    "        base_config['units'] = self.units\n",
    "        return base_config\n",
    "\n",
    "\n",
    "model = tf.keras.Sequential(\n",
    "    [\n",
    "        tf.keras.layers.Dense(units = 4500, activation = 'relu'),\n",
    "        tf.keras.layers.Dropout(0.0),\n",
    "        tf.keras.layers.Dense(units = 2, activation = 'sigmoid'),\n",
    "        #DenseNormalGamma(1)\n",
    "    ]\n",
    ")"
   ]
  },
  {
   "cell_type": "code",
   "execution_count": 18,
   "metadata": {},
   "outputs": [],
   "source": [
    "optimizer = tf.keras.optimizers.Adam(\n",
    "    learning_rate=1e-5\n",
    ")"
   ]
  },
  {
   "cell_type": "code",
   "execution_count": 19,
   "metadata": {},
   "outputs": [],
   "source": [
    "# compile model\n",
    "model.compile(\n",
    "    optimizer = optimizer, \n",
    "    loss = NLL,\n",
    "    metrics = ['mae'],\n",
    "    run_eagerly=True\n",
    ")"
   ]
  },
  {
   "cell_type": "code",
   "execution_count": 20,
   "metadata": {},
   "outputs": [],
   "source": [
    "# create early stopping callback\n",
    "callback1 = tf.keras.callbacks.EarlyStopping(\n",
    "    monitor = 'val_mae', \n",
    "    mode = 'min',\n",
    "    patience = 15,\n",
    "    restore_best_weights = True\n",
    ")\n",
    "\n",
    "# create reduce LR callback\n",
    "callback2 = tf.keras.callbacks.ReduceLROnPlateau(\n",
    "    monitor = 'val_mae', \n",
    "    factor = 0.1, \n",
    "    patience = 3, \n",
    "    verbose = 0,\n",
    "    mode = 'min',\n",
    "    min_lr = 1e-7\n",
    ")"
   ]
  },
  {
   "cell_type": "code",
   "execution_count": 21,
   "metadata": {},
   "outputs": [
    {
     "name": "stdout",
     "output_type": "stream",
     "text": [
      "Epoch 1/500\n",
      "116/116 - 2s - loss: 9719301.0000 - mae: 0.2427 - val_loss: 0.6706 - val_mae: 0.2422 - lr: 1.0000e-05 - 2s/epoch - 15ms/step\n",
      "Epoch 2/500\n",
      "116/116 - 2s - loss: 6528479.5000 - mae: 0.2396 - val_loss: 0.6578 - val_mae: 0.2395 - lr: 1.0000e-05 - 2s/epoch - 14ms/step\n",
      "Epoch 3/500\n",
      "116/116 - 2s - loss: 10009535.0000 - mae: 0.2371 - val_loss: 0.6499 - val_mae: 0.2370 - lr: 1.0000e-05 - 2s/epoch - 13ms/step\n",
      "Epoch 4/500\n",
      "116/116 - 2s - loss: 5033276.5000 - mae: 0.2348 - val_loss: 0.6465 - val_mae: 0.2348 - lr: 1.0000e-05 - 2s/epoch - 14ms/step\n",
      "Epoch 5/500\n",
      "116/116 - 2s - loss: 6978234.0000 - mae: 0.2327 - val_loss: 0.6418 - val_mae: 0.2326 - lr: 1.0000e-05 - 2s/epoch - 14ms/step\n",
      "Epoch 6/500\n",
      "116/116 - 2s - loss: 6978234.0000 - mae: 0.2308 - val_loss: 0.6373 - val_mae: 0.2307 - lr: 1.0000e-05 - 2s/epoch - 14ms/step\n",
      "Epoch 7/500\n",
      "116/116 - 2s - loss: 6978234.0000 - mae: 0.2290 - val_loss: 0.6334 - val_mae: 0.2290 - lr: 1.0000e-05 - 2s/epoch - 14ms/step\n",
      "Epoch 8/500\n",
      "116/116 - 2s - loss: 6978234.0000 - mae: 0.2275 - val_loss: 0.6294 - val_mae: 0.2275 - lr: 1.0000e-05 - 2s/epoch - 14ms/step\n",
      "Epoch 9/500\n",
      "116/116 - 2s - loss: 6978233.5000 - mae: 0.2262 - val_loss: 0.6257 - val_mae: 0.2260 - lr: 1.0000e-05 - 2s/epoch - 13ms/step\n",
      "Epoch 10/500\n",
      "116/116 - 2s - loss: 6978234.0000 - mae: 0.2247 - val_loss: 0.6223 - val_mae: 0.2245 - lr: 1.0000e-05 - 2s/epoch - 14ms/step\n",
      "Epoch 11/500\n",
      "116/116 - 2s - loss: 6978233.5000 - mae: 0.2233 - val_loss: 0.6190 - val_mae: 0.2232 - lr: 1.0000e-05 - 2s/epoch - 14ms/step\n",
      "Epoch 12/500\n",
      "116/116 - 2s - loss: 6978234.0000 - mae: 0.2221 - val_loss: 0.6158 - val_mae: 0.2216 - lr: 1.0000e-05 - 2s/epoch - 14ms/step\n",
      "Epoch 13/500\n",
      "116/116 - 2s - loss: 6978234.0000 - mae: 0.2207 - val_loss: 0.6128 - val_mae: 0.2202 - lr: 1.0000e-05 - 2s/epoch - 15ms/step\n",
      "Epoch 14/500\n",
      "116/116 - 2s - loss: 6978233.5000 - mae: 0.2193 - val_loss: 0.6099 - val_mae: 0.2188 - lr: 1.0000e-05 - 2s/epoch - 14ms/step\n",
      "Epoch 15/500\n",
      "116/116 - 2s - loss: 6978234.0000 - mae: 0.2181 - val_loss: 0.6069 - val_mae: 0.2175 - lr: 1.0000e-05 - 2s/epoch - 14ms/step\n",
      "Epoch 16/500\n",
      "116/116 - 2s - loss: 6978234.0000 - mae: 0.2166 - val_loss: 0.6042 - val_mae: 0.2159 - lr: 1.0000e-05 - 2s/epoch - 14ms/step\n",
      "Epoch 17/500\n",
      "116/116 - 2s - loss: 6978234.0000 - mae: 0.2153 - val_loss: 0.6012 - val_mae: 0.2146 - lr: 1.0000e-05 - 2s/epoch - 14ms/step\n",
      "Epoch 18/500\n",
      "116/116 - 2s - loss: 6978234.0000 - mae: 0.2141 - val_loss: 0.5983 - val_mae: 0.2132 - lr: 1.0000e-05 - 2s/epoch - 14ms/step\n",
      "Epoch 19/500\n",
      "116/116 - 2s - loss: 6978233.5000 - mae: 0.2129 - val_loss: 0.5954 - val_mae: 0.2117 - lr: 1.0000e-05 - 2s/epoch - 14ms/step\n",
      "Epoch 20/500\n",
      "116/116 - 2s - loss: 6978234.0000 - mae: 0.2114 - val_loss: 0.5924 - val_mae: 0.2102 - lr: 1.0000e-05 - 2s/epoch - 14ms/step\n",
      "Epoch 21/500\n",
      "116/116 - 2s - loss: 6978233.5000 - mae: 0.2101 - val_loss: 0.5893 - val_mae: 0.2087 - lr: 1.0000e-05 - 2s/epoch - 14ms/step\n",
      "Epoch 22/500\n",
      "116/116 - 2s - loss: 6978234.0000 - mae: 0.2087 - val_loss: 0.5864 - val_mae: 0.2072 - lr: 1.0000e-05 - 2s/epoch - 13ms/step\n",
      "Epoch 23/500\n",
      "116/116 - 2s - loss: 6978233.5000 - mae: 0.2073 - val_loss: 0.5834 - val_mae: 0.2059 - lr: 1.0000e-05 - 2s/epoch - 13ms/step\n",
      "Epoch 24/500\n",
      "116/116 - 2s - loss: 6978233.5000 - mae: 0.2059 - val_loss: 0.5804 - val_mae: 0.2043 - lr: 1.0000e-05 - 2s/epoch - 14ms/step\n",
      "Epoch 25/500\n",
      "116/116 - 2s - loss: 6978233.5000 - mae: 0.2044 - val_loss: 0.5773 - val_mae: 0.2028 - lr: 1.0000e-05 - 2s/epoch - 14ms/step\n",
      "Epoch 26/500\n",
      "116/116 - 2s - loss: 6978233.5000 - mae: 0.2030 - val_loss: 0.5740 - val_mae: 0.2012 - lr: 1.0000e-05 - 2s/epoch - 14ms/step\n",
      "Epoch 27/500\n",
      "116/116 - 2s - loss: 6978233.5000 - mae: 0.2015 - val_loss: 0.5707 - val_mae: 0.1995 - lr: 1.0000e-05 - 2s/epoch - 14ms/step\n",
      "Epoch 28/500\n",
      "116/116 - 2s - loss: 6978233.5000 - mae: 0.1999 - val_loss: 0.5675 - val_mae: 0.1979 - lr: 1.0000e-05 - 2s/epoch - 14ms/step\n",
      "Epoch 29/500\n",
      "116/116 - 2s - loss: 6978234.0000 - mae: 0.1983 - val_loss: 0.5641 - val_mae: 0.1963 - lr: 1.0000e-05 - 2s/epoch - 14ms/step\n",
      "Epoch 30/500\n",
      "116/116 - 2s - loss: 6978234.0000 - mae: 0.1968 - val_loss: 0.5605 - val_mae: 0.1947 - lr: 1.0000e-05 - 2s/epoch - 14ms/step\n",
      "Epoch 31/500\n",
      "116/116 - 2s - loss: 6978234.0000 - mae: 0.1953 - val_loss: 0.5566 - val_mae: 0.1931 - lr: 1.0000e-05 - 2s/epoch - 14ms/step\n",
      "Epoch 32/500\n",
      "116/116 - 2s - loss: 6978234.0000 - mae: 0.1934 - val_loss: 0.5534 - val_mae: 0.1913 - lr: 1.0000e-05 - 2s/epoch - 13ms/step\n",
      "Epoch 33/500\n",
      "116/116 - 2s - loss: 6978234.0000 - mae: 0.1918 - val_loss: 0.5495 - val_mae: 0.1896 - lr: 1.0000e-05 - 2s/epoch - 13ms/step\n",
      "Epoch 34/500\n",
      "116/116 - 2s - loss: 6978234.0000 - mae: 0.1901 - val_loss: 0.5455 - val_mae: 0.1878 - lr: 1.0000e-05 - 2s/epoch - 13ms/step\n",
      "Epoch 35/500\n",
      "116/116 - 2s - loss: 6978233.5000 - mae: 0.1884 - val_loss: 0.5416 - val_mae: 0.1859 - lr: 1.0000e-05 - 2s/epoch - 14ms/step\n",
      "Epoch 36/500\n",
      "116/116 - 2s - loss: 6978234.0000 - mae: 0.1865 - val_loss: 0.5374 - val_mae: 0.1841 - lr: 1.0000e-05 - 2s/epoch - 14ms/step\n",
      "Epoch 37/500\n",
      "116/116 - 2s - loss: 6978232.0000 - mae: 0.1848 - val_loss: 0.5332 - val_mae: 0.1821 - lr: 1.0000e-05 - 2s/epoch - 14ms/step\n",
      "Epoch 38/500\n",
      "116/116 - 2s - loss: 6978231.0000 - mae: 0.1828 - val_loss: 0.5287 - val_mae: 0.1802 - lr: 1.0000e-05 - 2s/epoch - 15ms/step\n",
      "Epoch 39/500\n",
      "116/116 - 2s - loss: 6978232.0000 - mae: 0.1809 - val_loss: 0.5241 - val_mae: 0.1781 - lr: 1.0000e-05 - 2s/epoch - 15ms/step\n",
      "Epoch 40/500\n",
      "116/116 - 2s - loss: 6978232.0000 - mae: 0.1790 - val_loss: 0.5192 - val_mae: 0.1762 - lr: 1.0000e-05 - 2s/epoch - 15ms/step\n",
      "Epoch 41/500\n",
      "116/116 - 2s - loss: 6978232.0000 - mae: 0.1770 - val_loss: 0.5147 - val_mae: 0.1743 - lr: 1.0000e-05 - 2s/epoch - 15ms/step\n",
      "Epoch 42/500\n",
      "116/116 - 2s - loss: 6978231.0000 - mae: 0.1750 - val_loss: 0.5098 - val_mae: 0.1720 - lr: 1.0000e-05 - 2s/epoch - 14ms/step\n",
      "Epoch 43/500\n",
      "116/116 - 2s - loss: 6978231.0000 - mae: 0.1728 - val_loss: 0.5048 - val_mae: 0.1699 - lr: 1.0000e-05 - 2s/epoch - 14ms/step\n",
      "Epoch 44/500\n",
      "116/116 - 2s - loss: 6978231.0000 - mae: 0.1708 - val_loss: 0.4995 - val_mae: 0.1676 - lr: 1.0000e-05 - 2s/epoch - 14ms/step\n",
      "Epoch 45/500\n",
      "116/116 - 2s - loss: 6978231.0000 - mae: 0.1686 - val_loss: 0.4939 - val_mae: 0.1654 - lr: 1.0000e-05 - 2s/epoch - 14ms/step\n",
      "Epoch 46/500\n",
      "116/116 - 2s - loss: 6978231.0000 - mae: 0.1663 - val_loss: 0.4880 - val_mae: 0.1631 - lr: 1.0000e-05 - 2s/epoch - 14ms/step\n",
      "Epoch 47/500\n",
      "116/116 - 2s - loss: 6978231.0000 - mae: 0.1641 - val_loss: 0.4822 - val_mae: 0.1607 - lr: 1.0000e-05 - 2s/epoch - 15ms/step\n",
      "Epoch 48/500\n",
      "116/116 - 2s - loss: 6978230.5000 - mae: 0.1618 - val_loss: 0.4758 - val_mae: 0.1584 - lr: 1.0000e-05 - 2s/epoch - 15ms/step\n",
      "Epoch 49/500\n",
      "116/116 - 2s - loss: 6978231.0000 - mae: 0.1594 - val_loss: 0.4698 - val_mae: 0.1558 - lr: 1.0000e-05 - 2s/epoch - 14ms/step\n",
      "Epoch 50/500\n",
      "116/116 - 2s - loss: 6978230.5000 - mae: 0.1570 - val_loss: 0.4630 - val_mae: 0.1536 - lr: 1.0000e-05 - 2s/epoch - 14ms/step\n",
      "Epoch 51/500\n",
      "116/116 - 2s - loss: 6978231.0000 - mae: 0.1547 - val_loss: 0.4562 - val_mae: 0.1508 - lr: 1.0000e-05 - 2s/epoch - 14ms/step\n",
      "Epoch 52/500\n",
      "116/116 - 2s - loss: 6978230.5000 - mae: 0.1520 - val_loss: 0.4491 - val_mae: 0.1482 - lr: 1.0000e-05 - 2s/epoch - 14ms/step\n",
      "Epoch 53/500\n",
      "116/116 - 2s - loss: 6978230.5000 - mae: 0.1496 - val_loss: 0.4417 - val_mae: 0.1459 - lr: 1.0000e-05 - 2s/epoch - 14ms/step\n",
      "Epoch 54/500\n",
      "116/116 - 2s - loss: 6978230.0000 - mae: 0.1471 - val_loss: 0.4343 - val_mae: 0.1429 - lr: 1.0000e-05 - 2s/epoch - 14ms/step\n",
      "Epoch 55/500\n",
      "116/116 - 2s - loss: 6978230.5000 - mae: 0.1444 - val_loss: 0.4266 - val_mae: 0.1401 - lr: 1.0000e-05 - 2s/epoch - 14ms/step\n",
      "Epoch 56/500\n",
      "116/116 - 2s - loss: 6978230.5000 - mae: 0.1417 - val_loss: 0.4182 - val_mae: 0.1377 - lr: 1.0000e-05 - 2s/epoch - 14ms/step\n",
      "Epoch 57/500\n",
      "116/116 - 2s - loss: 6978229.0000 - mae: 0.1390 - val_loss: 0.4097 - val_mae: 0.1348 - lr: 1.0000e-05 - 2s/epoch - 14ms/step\n",
      "Epoch 58/500\n",
      "116/116 - 2s - loss: 6978229.5000 - mae: 0.1362 - val_loss: 0.4010 - val_mae: 0.1319 - lr: 1.0000e-05 - 2s/epoch - 14ms/step\n",
      "Epoch 59/500\n",
      "116/116 - 2s - loss: 6978228.0000 - mae: 0.1336 - val_loss: 0.3914 - val_mae: 0.1294 - lr: 1.0000e-05 - 2s/epoch - 14ms/step\n",
      "Epoch 60/500\n",
      "116/116 - 2s - loss: 6978228.0000 - mae: 0.1309 - val_loss: 0.3824 - val_mae: 0.1265 - lr: 1.0000e-05 - 2s/epoch - 14ms/step\n",
      "Epoch 61/500\n",
      "116/116 - 2s - loss: 6978228.0000 - mae: 0.1280 - val_loss: 0.3724 - val_mae: 0.1236 - lr: 1.0000e-05 - 2s/epoch - 14ms/step\n",
      "Epoch 62/500\n",
      "116/116 - 2s - loss: 6978226.0000 - mae: 0.1251 - val_loss: 0.3628 - val_mae: 0.1204 - lr: 1.0000e-05 - 2s/epoch - 14ms/step\n",
      "Epoch 63/500\n",
      "116/116 - 2s - loss: 6978225.5000 - mae: 0.1223 - val_loss: 0.3523 - val_mae: 0.1177 - lr: 1.0000e-05 - 2s/epoch - 14ms/step\n",
      "Epoch 64/500\n",
      "116/116 - 2s - loss: 6978225.0000 - mae: 0.1193 - val_loss: 0.3415 - val_mae: 0.1146 - lr: 1.0000e-05 - 2s/epoch - 14ms/step\n",
      "Epoch 65/500\n",
      "116/116 - 2s - loss: 6978223.5000 - mae: 0.1164 - val_loss: 0.3300 - val_mae: 0.1116 - lr: 1.0000e-05 - 2s/epoch - 15ms/step\n",
      "Epoch 66/500\n",
      "116/116 - 2s - loss: 6978223.0000 - mae: 0.1133 - val_loss: 0.3182 - val_mae: 0.1085 - lr: 1.0000e-05 - 2s/epoch - 14ms/step\n",
      "Epoch 67/500\n",
      "116/116 - 2s - loss: 6978221.0000 - mae: 0.1103 - val_loss: 0.3062 - val_mae: 0.1053 - lr: 1.0000e-05 - 2s/epoch - 14ms/step\n",
      "Epoch 68/500\n",
      "116/116 - 2s - loss: 6978218.5000 - mae: 0.1071 - val_loss: 0.2932 - val_mae: 0.1021 - lr: 1.0000e-05 - 2s/epoch - 14ms/step\n",
      "Epoch 69/500\n",
      "116/116 - 2s - loss: 6978217.0000 - mae: 0.1039 - val_loss: 0.2807 - val_mae: 0.0987 - lr: 1.0000e-05 - 2s/epoch - 14ms/step\n",
      "Epoch 70/500\n",
      "116/116 - 2s - loss: 6978213.5000 - mae: 0.1007 - val_loss: 0.2677 - val_mae: 0.0956 - lr: 1.0000e-05 - 2s/epoch - 14ms/step\n",
      "Epoch 71/500\n",
      "116/116 - 2s - loss: 6978210.0000 - mae: 0.0976 - val_loss: 0.2549 - val_mae: 0.0927 - lr: 1.0000e-05 - 2s/epoch - 14ms/step\n",
      "Epoch 72/500\n",
      "116/116 - 2s - loss: 6978203.5000 - mae: 0.0949 - val_loss: 0.2427 - val_mae: 0.0899 - lr: 1.0000e-05 - 2s/epoch - 14ms/step\n",
      "Epoch 73/500\n",
      "116/116 - 2s - loss: 6978195.0000 - mae: 0.0926 - val_loss: 0.2313 - val_mae: 0.0879 - lr: 1.0000e-05 - 2s/epoch - 14ms/step\n",
      "Epoch 74/500\n",
      "116/116 - 2s - loss: 6978185.0000 - mae: 0.0907 - val_loss: 0.2186 - val_mae: 0.0858 - lr: 1.0000e-05 - 2s/epoch - 14ms/step\n",
      "Epoch 75/500\n",
      "116/116 - 2s - loss: 6978171.0000 - mae: 0.0887 - val_loss: 0.2069 - val_mae: 0.0841 - lr: 1.0000e-05 - 2s/epoch - 14ms/step\n",
      "Epoch 76/500\n",
      "116/116 - 2s - loss: 6978145.0000 - mae: 0.0872 - val_loss: 0.1945 - val_mae: 0.0824 - lr: 1.0000e-05 - 2s/epoch - 14ms/step\n",
      "Epoch 77/500\n",
      "116/116 - 2s - loss: 6978106.0000 - mae: 0.0860 - val_loss: 0.1834 - val_mae: 0.0812 - lr: 1.0000e-05 - 2s/epoch - 14ms/step\n",
      "Epoch 78/500\n",
      "116/116 - 2s - loss: 6978044.5000 - mae: 0.0849 - val_loss: 0.1713 - val_mae: 0.0803 - lr: 1.0000e-05 - 2s/epoch - 14ms/step\n",
      "Epoch 79/500\n",
      "116/116 - 2s - loss: 6977928.0000 - mae: 0.0845 - val_loss: 0.1595 - val_mae: 0.0798 - lr: 1.0000e-05 - 2s/epoch - 14ms/step\n",
      "Epoch 80/500\n",
      "116/116 - 2s - loss: 6977675.5000 - mae: 0.0840 - val_loss: 0.1486 - val_mae: 0.0796 - lr: 1.0000e-05 - 2s/epoch - 14ms/step\n",
      "Epoch 81/500\n",
      "116/116 - 2s - loss: 6977324.0000 - mae: 0.0838 - val_loss: 0.1362 - val_mae: 0.0795 - lr: 1.0000e-05 - 2s/epoch - 14ms/step\n",
      "Epoch 82/500\n",
      "116/116 - 2s - loss: 6974363.0000 - mae: 0.0840 - val_loss: 0.1233 - val_mae: 0.0796 - lr: 1.0000e-05 - 2s/epoch - 14ms/step\n",
      "Epoch 83/500\n",
      "116/116 - 2s - loss: 6756858.0000 - mae: 0.0843 - val_loss: 0.1083 - val_mae: 0.0804 - lr: 1.0000e-05 - 2s/epoch - 14ms/step\n",
      "Epoch 84/500\n",
      "116/116 - 2s - loss: 10144454.0000 - mae: 0.0846 - val_loss: 0.1072 - val_mae: 0.0804 - lr: 1.0000e-06 - 2s/epoch - 14ms/step\n",
      "Epoch 85/500\n",
      "116/116 - 2s - loss: 10144454.0000 - mae: 0.0847 - val_loss: 0.1060 - val_mae: 0.0804 - lr: 1.0000e-06 - 2s/epoch - 14ms/step\n",
      "Epoch 86/500\n",
      "116/116 - 2s - loss: 10144454.0000 - mae: 0.0847 - val_loss: 0.1048 - val_mae: 0.0805 - lr: 1.0000e-06 - 2s/epoch - 14ms/step\n",
      "Epoch 87/500\n",
      "116/116 - 2s - loss: 10144454.0000 - mae: 0.0847 - val_loss: 0.1047 - val_mae: 0.0805 - lr: 1.0000e-07 - 2s/epoch - 14ms/step\n",
      "Epoch 88/500\n",
      "116/116 - 2s - loss: 10144454.0000 - mae: 0.0847 - val_loss: 0.1045 - val_mae: 0.0805 - lr: 1.0000e-07 - 2s/epoch - 14ms/step\n",
      "Epoch 89/500\n",
      "116/116 - 2s - loss: 10144454.0000 - mae: 0.0847 - val_loss: 0.1044 - val_mae: 0.0805 - lr: 1.0000e-07 - 2s/epoch - 14ms/step\n",
      "Epoch 90/500\n",
      "116/116 - 2s - loss: 10144454.0000 - mae: 0.0847 - val_loss: 0.1043 - val_mae: 0.0805 - lr: 1.0000e-07 - 2s/epoch - 13ms/step\n",
      "Epoch 91/500\n",
      "116/116 - 2s - loss: 10144454.0000 - mae: 0.0848 - val_loss: 0.1042 - val_mae: 0.0805 - lr: 1.0000e-07 - 2s/epoch - 14ms/step\n",
      "Epoch 92/500\n",
      "116/116 - 2s - loss: 10144454.0000 - mae: 0.0848 - val_loss: 0.1040 - val_mae: 0.0805 - lr: 1.0000e-07 - 2s/epoch - 14ms/step\n",
      "Epoch 93/500\n",
      "116/116 - 2s - loss: 10144454.0000 - mae: 0.0848 - val_loss: 0.1039 - val_mae: 0.0805 - lr: 1.0000e-07 - 2s/epoch - 14ms/step\n",
      "Epoch 94/500\n",
      "116/116 - 2s - loss: 10144454.0000 - mae: 0.0848 - val_loss: 0.1038 - val_mae: 0.0805 - lr: 1.0000e-07 - 2s/epoch - 14ms/step\n",
      "Epoch 95/500\n",
      "116/116 - 2s - loss: 10144454.0000 - mae: 0.0848 - val_loss: 0.1036 - val_mae: 0.0805 - lr: 1.0000e-07 - 2s/epoch - 14ms/step\n",
      "Epoch 96/500\n",
      "116/116 - 2s - loss: 10144454.0000 - mae: 0.0848 - val_loss: 0.1035 - val_mae: 0.0805 - lr: 1.0000e-07 - 2s/epoch - 14ms/step\n"
     ]
    }
   ],
   "source": [
    "# fit model to training data\n",
    "history = model.fit(\n",
    "    x = x_train, \n",
    "    y = y_train,\n",
    "    validation_data = (x_valid, y_valid),\n",
    "    batch_size = 256,\n",
    "    epochs = 500,\n",
    "    callbacks = [callback1, callback2],\n",
    "    verbose = 2\n",
    ")"
   ]
  },
  {
   "cell_type": "code",
   "execution_count": 22,
   "metadata": {},
   "outputs": [],
   "source": [
    "y_pred = model.predict(x_test)"
   ]
  },
  {
   "cell_type": "code",
   "execution_count": 23,
   "metadata": {},
   "outputs": [],
   "source": [
    "# compute variance and std from learned parameters\n",
    "mu, var = (y_pred[:, i] for i in range(y_pred.shape[1]))"
   ]
  },
  {
   "cell_type": "code",
   "execution_count": 24,
   "metadata": {},
   "outputs": [
    {
     "data": {
      "text/plain": [
       "0.010781968922241677"
      ]
     },
     "execution_count": 24,
     "metadata": {},
     "output_type": "execute_result"
    }
   ],
   "source": [
    "train_data[output_cols].var().to_numpy()[0]"
   ]
  },
  {
   "cell_type": "code",
   "execution_count": 25,
   "metadata": {},
   "outputs": [],
   "source": [
    "mu = y_scaler.inverse_transform(np.expand_dims(mu, axis = 1)).squeeze(-1)\n",
    "var = np.expand_dims(var, axis = 1).squeeze(-1)\n",
    "var *= train_data[output_cols].var().to_numpy()[0]"
   ]
  },
  {
   "cell_type": "code",
   "execution_count": 26,
   "metadata": {},
   "outputs": [
    {
     "name": "stdout",
     "output_type": "stream",
     "text": [
      "0.026031230724743136 0.0452591965858977\n"
     ]
    }
   ],
   "source": [
    "mae = np.mean(np.abs(mu-test_data[output_cols[0]]))\n",
    "print(mae, np.mean(var) ** (1/2))"
   ]
  },
  {
   "cell_type": "code",
   "execution_count": 27,
   "metadata": {},
   "outputs": [
    {
     "data": {
      "image/png": "[encoded data removed]",
      "text/plain": [
       "<Figure size 432x432 with 3 Axes>"
      ]
     },
     "metadata": {
      "needs_background": "light"
     },
     "output_type": "display_data"
    }
   ],
   "source": [
    "sns.jointplot(x = test_data[output_cols[0]], y = mu, kind = 'hex')\n",
    "plt.xlabel('Target')\n",
    "plt.ylabel('Predicted Target')\n",
    "plt.show()"
   ]
  },
  {
   "cell_type": "code",
   "execution_count": 28,
   "metadata": {},
   "outputs": [
    {
     "data": {
      "image/png": "[encoded data removed]",
      "text/plain": [
       "<Figure size 432x432 with 3 Axes>"
      ]
     },
     "metadata": {
      "needs_background": "light"
     },
     "output_type": "display_data"
    }
   ],
   "source": [
    "sns.jointplot(x = mu, y = np.sqrt(var), kind = 'hex')\n",
    "plt.xlabel('Predicted mu')\n",
    "plt.ylabel('Predicted sigma')\n",
    "plt.show()"
   ]
  },
  {
   "cell_type": "code",
   "execution_count": 29,
   "metadata": {},
   "outputs": [],
   "source": [
    "# del model\n",
    "# tf.keras.backend.clear_session()\n",
    "# gc.collect()"
   ]
  },
  {
   "cell_type": "markdown",
   "metadata": {},
   "source": [
    "### B. Compute uncertanties "
   ]
  },
  {
   "cell_type": "markdown",
   "metadata": {},
   "source": [
    "### 1a. First with the standard model via MC dropout sampling"
   ]
  },
  {
   "cell_type": "code",
   "execution_count": 30,
   "metadata": {},
   "outputs": [],
   "source": [
    "def get_monte_carlo_predictions(x_test, \n",
    "                                forward_passes,\n",
    "                                model,\n",
    "                                n_samples):\n",
    "    \"\"\" Function to get the monte-carlo samples and uncertainty estimates\n",
    "    through multiple forward passes\n",
    "\n",
    "    Parameters\n",
    "    ----------\n",
    "    data_loader : object\n",
    "        data loader object from the data loader module\n",
    "    forward_passes : int\n",
    "        number of monte-carlo samples/forward passes\n",
    "    model : object\n",
    "        keras model\n",
    "    n_classes : int\n",
    "        number of classes in the dataset\n",
    "    n_samples : int\n",
    "        number of samples in the test set\n",
    "    \"\"\"\n",
    "\n",
    "    dropout_predictions = np.empty((0, n_samples, 1))\n",
    "    for i in range(forward_passes):\n",
    "        predictions = np.empty((0, 1))\n",
    "        output = y_scaler.inverse_transform(model.call(x_test, training=True))\n",
    "        predictions = np.vstack((predictions, output))\n",
    "        dropout_predictions = np.vstack((dropout_predictions,\n",
    "                                         predictions[np.newaxis, :, :]))\n",
    "        # dropout predictions - shape (forward_passes, n_samples, n_classes)\n",
    "    \n",
    "    # Calculating mean across multiple MCD forward passes \n",
    "    mean = np.mean(dropout_predictions, axis=0) # shape (n_samples, n_classes)\n",
    "\n",
    "    # Calculating variance across multiple MCD forward passes \n",
    "    variance = np.var(dropout_predictions, axis=0) # shape (n_samples, n_classes)\n",
    "    \n",
    "    return mean, variance"
   ]
  },
  {
   "cell_type": "code",
   "execution_count": 31,
   "metadata": {},
   "outputs": [],
   "source": [
    "forward_passes = 1000\n",
    "n_samples = x_test.shape[0]\n",
    "\n",
    "mu, sigma = get_monte_carlo_predictions(x_test,\n",
    "                                        forward_passes,\n",
    "                                        mlp,\n",
    "                                        n_samples)"
   ]
  },
  {
   "cell_type": "code",
   "execution_count": 32,
   "metadata": {},
   "outputs": [
    {
     "data": {
      "image/png": "[encoded data removed]",
      "text/plain": [
       "<Figure size 432x432 with 3 Axes>"
      ]
     },
     "metadata": {
      "needs_background": "light"
     },
     "output_type": "display_data"
    }
   ],
   "source": [
    "sns.jointplot(x = np.sqrt(sigma[:, 0]), y = test_data[output_cols[0]], kind = 'hex')\n",
    "plt.xlabel('Predicted uncertainty')\n",
    "plt.ylabel('True value')\n",
    "plt.show()"
   ]
  },
  {
   "cell_type": "markdown",
   "metadata": {},
   "source": [
    "### 1b. Create ensemble of ensembles with standard MLP to compute evidential components"
   ]
  },
  {
   "cell_type": "code",
   "execution_count": 33,
   "metadata": {},
   "outputs": [
    {
     "name": "stderr",
     "output_type": "stream",
     "text": [
      "100%|██████████| 10/10 [15:16<00:00, 91.61s/it]\n",
      "100%|██████████| 10/10 [12:20<00:00, 74.01s/it]\n",
      "100%|██████████| 10/10 [13:57<00:00, 83.76s/it]\n",
      "100%|██████████| 10/10 [10:13<00:00, 61.35s/it]\n",
      "100%|██████████| 10/10 [14:04<00:00, 84.48s/it] \n",
      "100%|██████████| 10/10 [11:30<00:00, 69.05s/it]\n",
      "100%|██████████| 10/10 [12:02<00:00, 72.21s/it]\n",
      "100%|██████████| 10/10 [11:05<00:00, 66.50s/it]\n",
      "100%|██████████| 10/10 [12:03<00:00, 72.31s/it]\n",
      "100%|██████████| 10/10 [09:58<00:00, 59.83s/it]\n"
     ]
    }
   ],
   "source": [
    "ensemble_mu = np.zeros((n_models, test_data.shape[0], 1))\n",
    "ensemble_sigma = np.zeros((n_models, test_data.shape[0], 1))\n",
    "\n",
    "for model_seed in range(n_models):\n",
    "\n",
    "    _model = MLP()\n",
    "    _ensemble_pred = np.zeros((n_splits, test_data.shape[0], 1))\n",
    "    \n",
    "    for data_seed in tqdm.tqdm(range(n_splits)):\n",
    "        data = pd.read_csv(fn)\n",
    "        data[\"day\"] = data[\"Time\"].apply(lambda x: str(x).split(\" \")[0])\n",
    "\n",
    "        # Need the same test_data for all trained models (data and model ensembles)\n",
    "        flat_seed = 1000\n",
    "        gsp = GroupShuffleSplit(n_splits=1,  random_state = flat_seed, train_size=0.9)\n",
    "        splits = list(gsp.split(data, groups = data[\"day\"]))\n",
    "        train_index, test_index = splits[0]\n",
    "        train_data, test_data = data.iloc[train_index].copy(), data.iloc[test_index].copy() \n",
    "\n",
    "        # Make N train-valid splits using day as grouping variable\n",
    "        gsp = GroupShuffleSplit(n_splits=n_splits,  random_state = flat_seed, train_size=0.885)\n",
    "        splits = list(gsp.split(train_data, groups = train_data[\"day\"]))\n",
    "        train_index, valid_index = splits[data_seed]\n",
    "        train_data, valid_data = train_data.iloc[train_index].copy(), train_data.iloc[valid_index] .copy()  \n",
    "\n",
    "        x_scaler, y_scaler = RobustScaler(), MinMaxScaler((0, 1))\n",
    "        x_train = x_scaler.fit_transform(train_data[input_cols])\n",
    "        x_valid = x_scaler.transform(valid_data[input_cols])\n",
    "        x_test = x_scaler.transform(test_data[input_cols])\n",
    "\n",
    "        y_train = y_scaler.fit_transform(train_data[output_cols])\n",
    "        y_valid = y_scaler.transform(valid_data[output_cols])\n",
    "        y_test = y_scaler.transform(test_data[output_cols])\n",
    "\n",
    "        optimizer = tf.keras.optimizers.Adam(\n",
    "            learning_rate=1e-5\n",
    "        )\n",
    "        \n",
    "        model = copy.deepcopy(_model)\n",
    "\n",
    "        # compile model\n",
    "        model.compile(\n",
    "            optimizer = optimizer, \n",
    "            loss = \"mae\",\n",
    "            metrics = ['mae'],\n",
    "            run_eagerly=True\n",
    "        )\n",
    "\n",
    "        callback1 = tf.keras.callbacks.EarlyStopping(\n",
    "            monitor = 'val_mae', \n",
    "            mode = 'min',\n",
    "            patience = 15,\n",
    "            restore_best_weights = True\n",
    "        )\n",
    "        callback2 = tf.keras.callbacks.ReduceLROnPlateau(\n",
    "            monitor = 'val_mae', \n",
    "            factor = 0.1, \n",
    "            patience = 3, \n",
    "            verbose = 0,\n",
    "            mode = 'min',\n",
    "            min_lr = 1e-7\n",
    "        )\n",
    "        # fit model to training data\n",
    "        history = model.fit(\n",
    "            x = x_train, \n",
    "            y = y_train,\n",
    "            validation_data = (x_valid, y_valid),\n",
    "            batch_size = 256,\n",
    "            epochs = 500,\n",
    "            callbacks = [callback1, callback2],\n",
    "            verbose = 0\n",
    "        )\n",
    "\n",
    "        _ensemble_pred[data_seed] = y_scaler.inverse_transform(model.predict(x_test))\n",
    "        \n",
    "        del model\n",
    "        tf.keras.backend.clear_session()\n",
    "        gc.collect()\n",
    "\n",
    "    ensemble_mu[model_seed] = np.mean(_ensemble_pred, 0)\n",
    "    ensemble_sigma[model_seed] = np.var(_ensemble_pred, 0)"
   ]
  },
  {
   "cell_type": "code",
   "execution_count": 34,
   "metadata": {},
   "outputs": [],
   "source": [
    "mlp_aleatoric = np.mean(ensemble_sigma, 0)\n",
    "mlp_epistemic = np.var(ensemble_mu, 0)"
   ]
  },
  {
   "cell_type": "code",
   "execution_count": 35,
   "metadata": {},
   "outputs": [
    {
     "name": "stdout",
     "output_type": "stream",
     "text": [
      "0.000542891349707717 0.0024902650909771557\n"
     ]
    }
   ],
   "source": [
    "print(mlp_epistemic.mean() ** (1/2), mlp_aleatoric.mean() ** (1/2))"
   ]
  },
  {
   "cell_type": "code",
   "execution_count": 36,
   "metadata": {},
   "outputs": [
    {
     "data": {
      "image/png": "[encoded data removed]",
      "text/plain": [
       "<Figure size 432x432 with 3 Axes>"
      ]
     },
     "metadata": {
      "needs_background": "light"
     },
     "output_type": "display_data"
    }
   ],
   "source": [
    "sns.jointplot(x = np.sqrt(mlp_epistemic[:, 0]), y = np.sqrt(mlp_aleatoric[:, 0]), kind = 'hex')\n",
    "plt.xlabel('Epistemic')\n",
    "plt.ylabel('Aleatoric')\n",
    "plt.show()"
   ]
  },
  {
   "cell_type": "markdown",
   "metadata": {},
   "source": [
    "### 2. Next with the Gaussian model, create a deep ensemble"
   ]
  },
  {
   "cell_type": "code",
   "execution_count": 37,
   "metadata": {},
   "outputs": [],
   "source": [
    "data_seed = 0\n",
    "gsp = GroupShuffleSplit(n_splits=1,  random_state = flat_seed, train_size=0.9)\n",
    "splits = list(gsp.split(data, groups = data[\"day\"]))\n",
    "train_index, test_index = splits[0]"
   ]
  },
  {
   "cell_type": "code",
   "execution_count": 38,
   "metadata": {},
   "outputs": [
    {
     "name": "stderr",
     "output_type": "stream",
     "text": [
      "100%|██████████| 10/10 [14:55<00:00, 89.55s/it]\n"
     ]
    }
   ],
   "source": [
    "ensemble_mu = np.zeros((n_splits, test_data.shape[0], 1))\n",
    "ensemble_var = np.zeros((n_splits, test_data.shape[0], 1))\n",
    "\n",
    "for data_seed in tqdm.tqdm(range(n_splits)):\n",
    "    data = pd.read_csv(fn)\n",
    "    data[\"day\"] = data[\"Time\"].apply(lambda x: str(x).split(\" \")[0])\n",
    "\n",
    "    # Need the same test_data for all trained models (data and model ensembles)\n",
    "    flat_seed = 1000\n",
    "    gsp = GroupShuffleSplit(n_splits=1,  random_state = flat_seed, train_size=0.9)\n",
    "    splits = list(gsp.split(data, groups = data[\"day\"]))\n",
    "    train_index, test_index = splits[0]\n",
    "    train_data, test_data = data.iloc[train_index].copy(), data.iloc[test_index].copy() \n",
    "\n",
    "    # Make N train-valid splits using day as grouping variable\n",
    "    gsp = GroupShuffleSplit(n_splits=n_splits,  random_state = flat_seed, train_size=0.885)\n",
    "    splits = list(gsp.split(train_data, groups = train_data[\"day\"]))\n",
    "    train_index, valid_index = splits[data_seed]\n",
    "    train_data, valid_data = train_data.iloc[train_index].copy(), train_data.iloc[valid_index] .copy()  \n",
    "\n",
    "    x_scaler, y_scaler = RobustScaler(), MinMaxScaler((0, 1))\n",
    "    x_train = x_scaler.fit_transform(train_data[input_cols])\n",
    "    x_valid = x_scaler.transform(valid_data[input_cols])\n",
    "    x_test = x_scaler.transform(test_data[input_cols])\n",
    "\n",
    "    y_train = y_scaler.fit_transform(train_data[output_cols])\n",
    "    y_valid = y_scaler.transform(valid_data[output_cols])\n",
    "    y_test = y_scaler.transform(test_data[output_cols])\n",
    "    \n",
    "    model = tf.keras.Sequential(\n",
    "        [\n",
    "            tf.keras.layers.Dense(units = 4500, activation = 'relu'),\n",
    "            #tf.keras.layers.Dropout(),\n",
    "            tf.keras.layers.Dense(units = 2, activation = 'sigmoid'),\n",
    "        ]\n",
    "    )\n",
    "    \n",
    "    optimizer = tf.keras.optimizers.Adam(\n",
    "        learning_rate=1e-5\n",
    "    )\n",
    "    \n",
    "    # compile model\n",
    "    model.compile(\n",
    "        optimizer = optimizer, \n",
    "        loss = NLL,\n",
    "        metrics = ['mae'],\n",
    "        run_eagerly=True\n",
    "    )\n",
    "    \n",
    "    callback1 = tf.keras.callbacks.EarlyStopping(\n",
    "        monitor = 'val_mae', \n",
    "        mode = 'min',\n",
    "        patience = 15,\n",
    "        restore_best_weights = True\n",
    "    )\n",
    "    callback2 = tf.keras.callbacks.ReduceLROnPlateau(\n",
    "        monitor = 'val_mae', \n",
    "        factor = 0.1, \n",
    "        patience = 3, \n",
    "        verbose = 0,\n",
    "        mode = 'min',\n",
    "        min_lr = 1e-7\n",
    "    )\n",
    "    # fit model to training data\n",
    "    history = model.fit(\n",
    "        x = x_train, \n",
    "        y = y_train,\n",
    "        validation_data = (x_valid, y_valid),\n",
    "        batch_size = 256,\n",
    "        epochs = 500,\n",
    "        callbacks = [callback1, callback2],\n",
    "        verbose = 0\n",
    "    )\n",
    "    \n",
    "    y_pred = model.predict(x_test)\n",
    "    mu, var = (y_pred[:, i] for i in range(y_pred.shape[1]))\n",
    "    mu = y_scaler.inverse_transform(np.expand_dims(mu, axis = 1)).squeeze(-1)\n",
    "    var = np.expand_dims(var, axis = 1).squeeze(-1)\n",
    "    var *= train_data[output_cols].var().to_numpy()[0]\n",
    "    mae = np.mean(np.abs(mu-test_data[output_cols[0]]))\n",
    "    \n",
    "    ensemble_mu[data_seed] = np.expand_dims(mu, 1)\n",
    "    ensemble_var[data_seed] = np.expand_dims(var, 1)\n",
    "    \n",
    "    del model\n",
    "    tf.keras.backend.clear_session()\n",
    "    gc.collect()"
   ]
  },
  {
   "cell_type": "code",
   "execution_count": 39,
   "metadata": {},
   "outputs": [],
   "source": [
    "epistemic = np.var(ensemble_mu, axis=0)\n",
    "aleatoric = np.mean(ensemble_var, axis=0)"
   ]
  },
  {
   "cell_type": "code",
   "execution_count": 40,
   "metadata": {},
   "outputs": [
    {
     "name": "stdout",
     "output_type": "stream",
     "text": [
      "0.04904076462552248 0.045809163832760035\n"
     ]
    }
   ],
   "source": [
    "print(epistemic.mean() ** (1/2), aleatoric.mean() ** (1/2))"
   ]
  },
  {
   "cell_type": "code",
   "execution_count": 41,
   "metadata": {},
   "outputs": [
    {
     "data": {
      "image/png": "[encoded data removed]",
      "text/plain": [
       "<Figure size 432x432 with 3 Axes>"
      ]
     },
     "metadata": {
      "needs_background": "light"
     },
     "output_type": "display_data"
    }
   ],
   "source": [
    "sns.jointplot(x = np.sqrt(epistemic[:, 0]), y = np.sqrt(aleatoric[:, 0]), kind = 'hex')\n",
    "plt.xlabel('Predicted epistemic')\n",
    "plt.ylabel('Predicted aleatoric')\n",
    "plt.show()"
   ]
  },
  {
   "cell_type": "code",
   "execution_count": 42,
   "metadata": {},
   "outputs": [
    {
     "data": {
      "image/png": "[encoded data removed]",
      "text/plain": [
       "<Figure size 432x432 with 3 Axes>"
      ]
     },
     "metadata": {
      "needs_background": "light"
     },
     "output_type": "display_data"
    }
   ],
   "source": [
    "sns.jointplot(x = np.sqrt(epistemic[:, 0]), y = test_data[output_cols[0]], kind = 'hex')\n",
    "plt.xlabel('Predicted epistemic uncertainty')\n",
    "plt.ylabel('True value')\n",
    "plt.show()"
   ]
  },
  {
   "cell_type": "markdown",
   "metadata": {},
   "source": [
    "### 3. Finally, with the normal inverse gamma approach for estimating evidential uncertainty"
   ]
  },
  {
   "cell_type": "code",
   "execution_count": 43,
   "metadata": {},
   "outputs": [],
   "source": [
    "class DenseNormalGamma(tf.keras.layers.Layer):\n",
    "    \"\"\"Implements dense layer for Deep Evidential Regression\n",
    "    \n",
    "    Reference: https://www.mit.edu/~amini/pubs/pdf/deep-evidential-regression.pdf\n",
    "    Source: https://github.com/aamini/evidential-deep-learning\n",
    "    \"\"\"\n",
    "    \n",
    "    def __init__(self, units):\n",
    "        super(DenseNormalGamma, self).__init__()\n",
    "        self.units = int(units)\n",
    "        self.dense = tf.keras.layers.Dense(4 * self.units, activation=None)\n",
    "\n",
    "    def evidence(self, x):\n",
    "        return tf.nn.softplus(x)\n",
    "\n",
    "    def call(self, x):\n",
    "        output = self.dense(x)\n",
    "        mu, logv, logalpha, logbeta = tf.split(output, 4, axis=-1)\n",
    "        v = self.evidence(logv)\n",
    "        alpha = self.evidence(logalpha) + 1\n",
    "        beta = self.evidence(logbeta)\n",
    "        return tf.concat([mu, v, alpha, beta], axis=-1)\n",
    "\n",
    "    def compute_output_shape(self, input_shape):\n",
    "        return (input_shape[0], 4 * self.units)\n",
    "\n",
    "    def get_config(self):\n",
    "        base_config = super(DenseNormalGamma, self).get_config()\n",
    "        base_config['units'] = self.units\n",
    "        return base_config"
   ]
  },
  {
   "cell_type": "code",
   "execution_count": 44,
   "metadata": {},
   "outputs": [],
   "source": [
    "def NIG_NLL(y, gamma, v, alpha, beta, reduce=True):\n",
    "    v += 1e-12\n",
    "    twoBlambda = 2*beta*(1+v) + 1e-12\n",
    "    nll = 0.5*tf.math.log(np.pi/v)  \\\n",
    "        - alpha*tf.math.log(twoBlambda)  \\\n",
    "        + (alpha+0.5) * tf.math.log(v*(y-gamma)**2 + twoBlambda)  \\\n",
    "        + tf.math.lgamma(alpha)  \\\n",
    "        - tf.math.lgamma(alpha+0.5)\n",
    "\n",
    "    return tf.reduce_mean(nll) if reduce else nll\n",
    "\n",
    "def NIG_Reg(y, gamma, v, alpha, beta, reduce=True):\n",
    "    error = tf.abs(y-gamma)\n",
    "    evi = 2*v+(alpha)\n",
    "    reg = error*evi\n",
    "\n",
    "    return tf.reduce_mean(reg) if reduce else reg\n",
    "\n",
    "def EvidentialRegression(y_true, evidential_output, coeff=1.0):\n",
    "    \"\"\"Implements loss for Deep Evidential Regression\n",
    "    \n",
    "    Reference: https://www.mit.edu/~amini/pubs/pdf/deep-evidential-regression.pdf\n",
    "    Source: https://github.com/aamini/evidential-deep-learning\n",
    "    \"\"\"\n",
    "    \n",
    "    gamma, v, alpha, beta = tf.split(evidential_output, 4, axis=-1)\n",
    "    loss_nll = NIG_NLL(y_true, gamma, v, alpha, beta)\n",
    "    loss_reg = NIG_Reg(y_true, gamma, v, alpha, beta)\n",
    "    return loss_nll + coeff * loss_reg"
   ]
  },
  {
   "cell_type": "code",
   "execution_count": 45,
   "metadata": {},
   "outputs": [],
   "source": [
    "data_seed = 0\n",
    "flat_seed = 1000\n",
    "\n",
    "data = pd.read_csv(fn)\n",
    "data[\"day\"] = data[\"Time\"].apply(lambda x: str(x).split(\" \")[0])\n",
    "\n",
    "# Need the same test_data for all trained models (data and model ensembles)\n",
    "gsp = GroupShuffleSplit(n_splits=1,  random_state = flat_seed, train_size=0.9)\n",
    "splits = list(gsp.split(data, groups = data[\"day\"]))\n",
    "train_index, test_index = splits[0]\n",
    "train_data, test_data = data.iloc[train_index].copy(), data.iloc[test_index].copy() \n",
    "\n",
    "# Make N train-valid splits using day as grouping variable\n",
    "gsp = GroupShuffleSplit(n_splits=n_splits,  random_state = flat_seed, train_size=0.885)\n",
    "splits = list(gsp.split(train_data, groups = train_data[\"day\"]))\n",
    "train_index, valid_index = splits[data_seed]\n",
    "train_data, valid_data = train_data.iloc[train_index].copy(), train_data.iloc[valid_index] .copy()  \n",
    "\n",
    "x_scaler, y_scaler = RobustScaler(), MinMaxScaler((0, 1))\n",
    "x_train = x_scaler.fit_transform(train_data[input_cols])\n",
    "x_valid = x_scaler.transform(valid_data[input_cols])\n",
    "x_test = x_scaler.transform(test_data[input_cols])\n",
    "\n",
    "y_train = y_scaler.fit_transform(train_data[output_cols])\n",
    "y_valid = y_scaler.transform(valid_data[output_cols])\n",
    "y_test = y_scaler.transform(test_data[output_cols])"
   ]
  },
  {
   "cell_type": "code",
   "execution_count": 46,
   "metadata": {},
   "outputs": [],
   "source": [
    "evm = tf.keras.Sequential(\n",
    "    [\n",
    "        tf.keras.layers.Dense(units = 4500, activation = 'relu'),\n",
    "        #tf.keras.layers.Dropout(),\n",
    "        DenseNormalGamma(1)\n",
    "    ]\n",
    ")"
   ]
  },
  {
   "cell_type": "code",
   "execution_count": 47,
   "metadata": {},
   "outputs": [],
   "source": [
    "optimizer = tf.keras.optimizers.Adam(\n",
    "    learning_rate=1e-5\n",
    ")"
   ]
  },
  {
   "cell_type": "code",
   "execution_count": 48,
   "metadata": {},
   "outputs": [],
   "source": [
    "loss = partial(EvidentialRegression, coeff=0.05)\n",
    "\n",
    "# compile model\n",
    "evm.compile(\n",
    "    optimizer = optimizer, \n",
    "    loss = loss,\n",
    "    metrics = ['mae']\n",
    ")"
   ]
  },
  {
   "cell_type": "code",
   "execution_count": 49,
   "metadata": {},
   "outputs": [],
   "source": [
    "callback1 = tf.keras.callbacks.EarlyStopping(\n",
    "    monitor = 'val_loss', \n",
    "    mode = 'min',\n",
    "    patience = 15,\n",
    "    restore_best_weights = True\n",
    ")\n",
    "\n",
    "# create reduce LR callback\n",
    "callback2 = tf.keras.callbacks.ReduceLROnPlateau(\n",
    "    monitor = 'val_loss', \n",
    "    factor = 0.1, \n",
    "    patience = 3, \n",
    "    verbose = 0,\n",
    "    mode = 'min'\n",
    ")"
   ]
  },
  {
   "cell_type": "code",
   "execution_count": 50,
   "metadata": {},
   "outputs": [],
   "source": [
    "# fit model to training data\n",
    "history = evm.fit(\n",
    "    x = x_train, \n",
    "    y = y_train,\n",
    "    validation_data = (x_valid, y_valid),\n",
    "    batch_size = 256,\n",
    "    epochs = 500,\n",
    "    callbacks = [callback1, callback2],\n",
    "    verbose = 0\n",
    ")"
   ]
  },
  {
   "cell_type": "code",
   "execution_count": 51,
   "metadata": {},
   "outputs": [],
   "source": [
    "y_pred = evm.predict(x_test)"
   ]
  },
  {
   "cell_type": "code",
   "execution_count": 52,
   "metadata": {},
   "outputs": [],
   "source": [
    "# compute variance and std from learned parameters\n",
    "mu, v, alpha, beta = (y_pred[:, i] for i in range(y_pred.shape[1]))\n",
    "var_a = beta / (alpha - 1)\n",
    "var_e = beta / (v * (alpha - 1))"
   ]
  },
  {
   "cell_type": "code",
   "execution_count": 53,
   "metadata": {},
   "outputs": [],
   "source": [
    "mu = y_scaler.inverse_transform(mu.reshape((mu.shape[0], -1)))\n",
    "var_a *= train_data[output_cols[0]].var()\n",
    "var_e *= train_data[output_cols[0]].var()"
   ]
  },
  {
   "cell_type": "code",
   "execution_count": 54,
   "metadata": {},
   "outputs": [
    {
     "name": "stdout",
     "output_type": "stream",
     "text": [
      "0.014671666517423652 0.0002717661906240611 0.0018595479 0.003198621\n"
     ]
    }
   ],
   "source": [
    "mae = np.mean(np.abs(mu[:, 0]-test_data[output_cols[0]]))\n",
    "var = np.var(np.abs(mu[:, 0]-test_data[output_cols[0]]))\n",
    "print(mae, var, np.sqrt(var_e).mean(), np.sqrt(var_a).mean())"
   ]
  },
  {
   "cell_type": "code",
   "execution_count": 55,
   "metadata": {},
   "outputs": [
    {
     "data": {
      "image/png": "[encoded data removed]",
      "text/plain": [
       "<Figure size 432x432 with 3 Axes>"
      ]
     },
     "metadata": {
      "needs_background": "light"
     },
     "output_type": "display_data"
    }
   ],
   "source": [
    "sns.jointplot(x = np.sqrt(var_e), y = np.sqrt(var_a), kind = 'hex')\n",
    "plt.xlabel('Predicted epistemic')\n",
    "plt.ylabel('Predicted aleatoric')\n",
    "plt.show()"
   ]
  },
  {
   "cell_type": "code",
   "execution_count": 56,
   "metadata": {},
   "outputs": [
    {
     "data": {
      "image/png": "[encoded data removed]",
      "text/plain": [
       "<Figure size 432x432 with 3 Axes>"
      ]
     },
     "metadata": {
      "needs_background": "light"
     },
     "output_type": "display_data"
    }
   ],
   "source": [
    "sns.jointplot(x = np.sqrt(var_e), y = test_data[output_cols[0]].to_numpy(), kind = 'hex')\n",
    "plt.xlabel('Predicted epistemic')\n",
    "plt.ylabel('True value')\n",
    "plt.show()"
   ]
  },
  {
   "cell_type": "code",
   "execution_count": null,
   "metadata": {},
   "outputs": [],
   "source": []
  }
 ],
 "metadata": {
  "kernelspec": {
   "display_name": "py37",
   "language": "python",
   "name": "py37"
  },
  "language_info": {
   "codemirror_mode": {
    "name": "ipython",
    "version": 3
   },
   "file_extension": ".py",
   "mimetype": "text/x-python",
   "name": "python",
   "nbconvert_exporter": "python",
   "pygments_lexer": "ipython3",
   "version": "3.7.5"
  }
 },
 "nbformat": 4,
 "nbformat_minor": 4
}
