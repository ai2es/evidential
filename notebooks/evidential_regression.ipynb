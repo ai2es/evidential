{
 "cells": [
  {
   "cell_type": "code",
   "execution_count": 1,
   "id": "776e9403-2316-4549-b898-7da7c25df9ac",
   "metadata": {},
   "outputs": [
    {
     "name": "stderr",
     "output_type": "stream",
     "text": [
      "2023-02-07 09:37:35.292057: I tensorflow/core/platform/cpu_feature_guard.cc:193] This TensorFlow binary is optimized with oneAPI Deep Neural Network Library (oneDNN) to use the following CPU instructions in performance-critical operations:  AVX2 AVX512F AVX512_VNNI FMA\n",
      "To enable them in other operations, rebuild TensorFlow with the appropriate compiler flags.\n",
      "2023-02-07 09:37:35.422778: I tensorflow/core/util/port.cc:104] oneDNN custom operations are on. You may see slightly different numerical results due to floating-point round-off errors from different computation orders. To turn them off, set the environment variable `TF_ENABLE_ONEDNN_OPTS=0`.\n",
      "2023-02-07 09:37:36.091239: W tensorflow/compiler/xla/stream_executor/platform/default/dso_loader.cc:64] Could not load dynamic library 'libnvinfer.so.7'; dlerror: libnvinfer.so.7: cannot open shared object file: No such file or directory; LD_LIBRARY_PATH: /glade/u/apps/dav/opt/cudnn/8.0.4.30/cuda/11.0.3/lib64:/glade/u/apps/dav/opt/cuda/11.0.3/extras/CUPTI/lib64:/glade/u/apps/dav/opt/cuda/11.0.3/lib64/glade/u/apps/dav/opt/cudnn/8.2.2.26/cuda/11.4.0/lib64:/glade/u/apps/dav/opt/cuda/11.4.0/extras/CUPTI/lib64:/glade/u/apps/dav/opt/cuda/11.4.0/lib64:/glade/u/apps/dav/opt/openmpi/4.1.1/intel/19.1.1/lib:/glade/u/apps/dav/opt/ucx/1.11.0/lib:/glade/u/apps/opt/intel/2020u1/compilers_and_libraries/linux/lib/intel64\n",
      "2023-02-07 09:37:36.091351: W tensorflow/compiler/xla/stream_executor/platform/default/dso_loader.cc:64] Could not load dynamic library 'libnvinfer_plugin.so.7'; dlerror: libnvinfer_plugin.so.7: cannot open shared object file: No such file or directory; LD_LIBRARY_PATH: /glade/u/apps/dav/opt/cudnn/8.0.4.30/cuda/11.0.3/lib64:/glade/u/apps/dav/opt/cuda/11.0.3/extras/CUPTI/lib64:/glade/u/apps/dav/opt/cuda/11.0.3/lib64/glade/u/apps/dav/opt/cudnn/8.2.2.26/cuda/11.4.0/lib64:/glade/u/apps/dav/opt/cuda/11.4.0/extras/CUPTI/lib64:/glade/u/apps/dav/opt/cuda/11.4.0/lib64:/glade/u/apps/dav/opt/openmpi/4.1.1/intel/19.1.1/lib:/glade/u/apps/dav/opt/ucx/1.11.0/lib:/glade/u/apps/opt/intel/2020u1/compilers_and_libraries/linux/lib/intel64\n",
      "2023-02-07 09:37:36.091361: W tensorflow/compiler/tf2tensorrt/utils/py_utils.cc:38] TF-TRT Warning: Cannot dlopen some TensorRT libraries. If you would like to use Nvidia GPU with TensorRT, please make sure the missing libraries mentioned above are installed properly.\n"
     ]
    }
   ],
   "source": [
    "import yaml\n",
    "import functools\n",
    "import numpy as np\n",
    "import matplotlib.pyplot as plt\n",
    "import tensorflow as tf\n",
    "from tensorflow.keras.layers import LeakyReLU\n",
    "from tensorflow.keras.models import load_model\n",
    "from sklearn.preprocessing import StandardScaler, MinMaxScaler\n",
    "from evml.keras.models import DenseNormalGamma, EvidentialRegressorDNN\n",
    "from evml.keras.losses import EvidentialRegressionLoss"
   ]
  },
  {
   "cell_type": "code",
   "execution_count": 2,
   "id": "6e5ce7d3-041a-4f56-9447-1d02c93cdafa",
   "metadata": {},
   "outputs": [],
   "source": [
    "#### Helper functions ####\n",
    "\n",
    "def my_data(x_min, x_max, n, train=True):\n",
    "    x = np.linspace(x_min, x_max, n)\n",
    "    x = np.expand_dims(x, -1).astype(np.float32)\n",
    "    \n",
    "    if train:\n",
    "        sigma = 3 * np.ones_like(x) \n",
    "        y = x**3 + np.random.normal(0, sigma).astype(np.float32)\n",
    "        noise1 = np.random.normal(0, 10, len(x))\n",
    "        scale1 = np.linspace(0, 1, int(len(x) / 2))\n",
    "        scale2 = np.linspace(1, 0, int(len(x) / 2))\n",
    "        scale = np.concatenate([scale1, scale2])\n",
    "        noise = noise1 * scale \n",
    "        y = (y.squeeze() + noise).reshape(-1, 1)\n",
    "    \n",
    "    else:\n",
    "        sigma = np.zeros_like(x)\n",
    "        y = (x**3 + np.random.normal(0, sigma).astype(np.float32))\n",
    "    return x, y\n",
    "\n",
    "# Create some training and testing data\n",
    "x_train, y_train = my_data(-4, 4, 10000)\n",
    "x_test, y_test = my_data(-7, 7, 10000, train=False)\n",
    "\n",
    "# Scale data\n",
    "input_scaler = MinMaxScaler((0.1, 1.1))\n",
    "output_scaler = MinMaxScaler((0.1, 1.1))\n",
    "x_train_scaled = input_scaler.fit_transform(x_train)\n",
    "y_train_scaled = output_scaler.fit_transform(y_train)\n",
    "x_test_scaled = input_scaler.transform(x_test)\n",
    "y_test_scaled = output_scaler.transform(y_test)"
   ]
  },
  {
   "cell_type": "code",
   "execution_count": 3,
   "id": "b4369f81-68c9-4e9e-9f39-6a3584089cf7",
   "metadata": {},
   "outputs": [],
   "source": [
    "with open(\"../config/regression.yml\") as cf:\n",
    "    conf = yaml.load(cf, Loader=yaml.FullLoader)"
   ]
  },
  {
   "cell_type": "code",
   "execution_count": 4,
   "id": "85b71fae-0c68-42ca-91b1-a31052c46fae",
   "metadata": {},
   "outputs": [
    {
     "name": "stderr",
     "output_type": "stream",
     "text": [
      "2023-02-07 09:37:37.627599: E tensorflow/compiler/xla/stream_executor/cuda/cuda_driver.cc:267] failed call to cuInit: CUDA_ERROR_NO_DEVICE: no CUDA-capable device is detected\n",
      "2023-02-07 09:37:37.627643: I tensorflow/compiler/xla/stream_executor/cuda/cuda_diagnostics.cc:156] kernel driver does not appear to be running on this host (crhtc46): /proc/driver/nvidia/version does not exist\n",
      "2023-02-07 09:37:37.630592: I tensorflow/core/platform/cpu_feature_guard.cc:193] This TensorFlow binary is optimized with oneAPI Deep Neural Network Library (oneDNN) to use the following CPU instructions in performance-critical operations:  AVX2 AVX512F AVX512_VNNI FMA\n",
      "To enable them in other operations, rebuild TensorFlow with the appropriate compiler flags.\n",
      "WARNING:absl:`lr` is deprecated, please use `learning_rate` instead, or use the legacy optimizer, e.g.,tf.keras.optimizers.legacy.Adam.\n"
     ]
    }
   ],
   "source": [
    "# Define our model with an evidential output\n",
    "model = EvidentialRegressorDNN(**conf[\"model\"])\n",
    "model.fit(x_train, y_train)\n",
    "# model.fit(x_train_scaled, y_train_scaled, batch_size=100, epochs=500, verbose=0)"
   ]
  },
  {
   "cell_type": "code",
   "execution_count": 5,
   "id": "27fe510f-a56a-4ce8-ad9b-3a21b4cfc3af",
   "metadata": {},
   "outputs": [
    {
     "ename": "ValueError",
     "evalue": "Unknown loss function: 'EvidentialRegressionLoss'. Please ensure you are using a `keras.utils.custom_object_scope` and that this object is included in the scope. See https://www.tensorflow.org/guide/keras/save_and_serialize#registering_the_custom_object for details.",
     "output_type": "error",
     "traceback": [
      "\u001b[0;31m---------------------------------------------------------------------------\u001b[0m",
      "\u001b[0;31mValueError\u001b[0m                                Traceback (most recent call last)",
      "Cell \u001b[0;32mIn [5], line 1\u001b[0m\n\u001b[0;32m----> 1\u001b[0m model_loaded \u001b[38;5;241m=\u001b[39m \u001b[43mload_model\u001b[49m\u001b[43m(\u001b[49m\u001b[38;5;124;43m'\u001b[39;49m\u001b[38;5;124;43m./test_model/model.h5\u001b[39;49m\u001b[38;5;124;43m'\u001b[39;49m\u001b[43m,\u001b[49m\u001b[43m \u001b[49m\n\u001b[1;32m      2\u001b[0m \u001b[43m                   \u001b[49m\u001b[43mcustom_objects\u001b[49m\u001b[38;5;241;43m=\u001b[39;49m\u001b[43m{\u001b[49m\u001b[38;5;124;43m'\u001b[39;49m\u001b[38;5;124;43mDenseNormalGamma\u001b[39;49m\u001b[38;5;124;43m'\u001b[39;49m\u001b[43m:\u001b[49m\u001b[43m \u001b[49m\u001b[43mDenseNormalGamma\u001b[49m\u001b[43m,\u001b[49m\n\u001b[1;32m      3\u001b[0m \u001b[43m                                   \u001b[49m\u001b[38;5;124;43m'\u001b[39;49m\u001b[38;5;124;43mloss\u001b[39;49m\u001b[38;5;124;43m'\u001b[39;49m\u001b[43m:\u001b[49m\u001b[43m \u001b[49m\u001b[43mEvidentialRegressionLoss\u001b[49m\u001b[43m(\u001b[49m\u001b[43mconf\u001b[49m\u001b[43m[\u001b[49m\u001b[38;5;124;43m'\u001b[39;49m\u001b[38;5;124;43mmodel\u001b[39;49m\u001b[38;5;124;43m'\u001b[39;49m\u001b[43m]\u001b[49m\u001b[43m[\u001b[49m\u001b[38;5;124;43m'\u001b[39;49m\u001b[38;5;124;43mevidential_coef\u001b[39;49m\u001b[38;5;124;43m'\u001b[39;49m\u001b[43m]\u001b[49m\u001b[43m)\u001b[49m\u001b[43m}\u001b[49m\u001b[43m)\u001b[49m\n",
      "File \u001b[0;32m~/.conda/envs/evidential/lib/python3.8/site-packages/keras/utils/traceback_utils.py:70\u001b[0m, in \u001b[0;36mfilter_traceback.<locals>.error_handler\u001b[0;34m(*args, **kwargs)\u001b[0m\n\u001b[1;32m     67\u001b[0m     filtered_tb \u001b[38;5;241m=\u001b[39m _process_traceback_frames(e\u001b[38;5;241m.\u001b[39m__traceback__)\n\u001b[1;32m     68\u001b[0m     \u001b[38;5;66;03m# To get the full stack trace, call:\u001b[39;00m\n\u001b[1;32m     69\u001b[0m     \u001b[38;5;66;03m# `tf.debugging.disable_traceback_filtering()`\u001b[39;00m\n\u001b[0;32m---> 70\u001b[0m     \u001b[38;5;28;01mraise\u001b[39;00m e\u001b[38;5;241m.\u001b[39mwith_traceback(filtered_tb) \u001b[38;5;28;01mfrom\u001b[39;00m \u001b[38;5;28mNone\u001b[39m\n\u001b[1;32m     71\u001b[0m \u001b[38;5;28;01mfinally\u001b[39;00m:\n\u001b[1;32m     72\u001b[0m     \u001b[38;5;28;01mdel\u001b[39;00m filtered_tb\n",
      "File \u001b[0;32m~/.conda/envs/evidential/lib/python3.8/site-packages/keras/saving/legacy/serialization.py:385\u001b[0m, in \u001b[0;36mclass_and_config_for_serialized_keras_object\u001b[0;34m(config, module_objects, custom_objects, printable_module_name)\u001b[0m\n\u001b[1;32m    381\u001b[0m \u001b[38;5;28mcls\u001b[39m \u001b[38;5;241m=\u001b[39m object_registration\u001b[38;5;241m.\u001b[39mget_registered_object(\n\u001b[1;32m    382\u001b[0m     class_name, custom_objects, module_objects\n\u001b[1;32m    383\u001b[0m )\n\u001b[1;32m    384\u001b[0m \u001b[38;5;28;01mif\u001b[39;00m \u001b[38;5;28mcls\u001b[39m \u001b[38;5;129;01mis\u001b[39;00m \u001b[38;5;28;01mNone\u001b[39;00m:\n\u001b[0;32m--> 385\u001b[0m     \u001b[38;5;28;01mraise\u001b[39;00m \u001b[38;5;167;01mValueError\u001b[39;00m(\n\u001b[1;32m    386\u001b[0m         \u001b[38;5;124mf\u001b[39m\u001b[38;5;124m\"\u001b[39m\u001b[38;5;124mUnknown \u001b[39m\u001b[38;5;132;01m{\u001b[39;00mprintable_module_name\u001b[38;5;132;01m}\u001b[39;00m\u001b[38;5;124m: \u001b[39m\u001b[38;5;124m'\u001b[39m\u001b[38;5;132;01m{\u001b[39;00mclass_name\u001b[38;5;132;01m}\u001b[39;00m\u001b[38;5;124m'\u001b[39m\u001b[38;5;124m. \u001b[39m\u001b[38;5;124m\"\u001b[39m\n\u001b[1;32m    387\u001b[0m         \u001b[38;5;124m\"\u001b[39m\u001b[38;5;124mPlease ensure you are using a `keras.utils.custom_object_scope` \u001b[39m\u001b[38;5;124m\"\u001b[39m\n\u001b[1;32m    388\u001b[0m         \u001b[38;5;124m\"\u001b[39m\u001b[38;5;124mand that this object is included in the scope. See \u001b[39m\u001b[38;5;124m\"\u001b[39m\n\u001b[1;32m    389\u001b[0m         \u001b[38;5;124m\"\u001b[39m\u001b[38;5;124mhttps://www.tensorflow.org/guide/keras/save_and_serialize\u001b[39m\u001b[38;5;124m\"\u001b[39m\n\u001b[1;32m    390\u001b[0m         \u001b[38;5;124m\"\u001b[39m\u001b[38;5;124m#registering_the_custom_object for details.\u001b[39m\u001b[38;5;124m\"\u001b[39m\n\u001b[1;32m    391\u001b[0m     )\n\u001b[1;32m    393\u001b[0m cls_config \u001b[38;5;241m=\u001b[39m config[\u001b[38;5;124m\"\u001b[39m\u001b[38;5;124mconfig\u001b[39m\u001b[38;5;124m\"\u001b[39m]\n\u001b[1;32m    394\u001b[0m \u001b[38;5;66;03m# Check if `cls_config` is a list. If it is a list, return the class and the\u001b[39;00m\n\u001b[1;32m    395\u001b[0m \u001b[38;5;66;03m# associated class configs for recursively deserialization. This case will\u001b[39;00m\n\u001b[1;32m    396\u001b[0m \u001b[38;5;66;03m# happen on the old version of sequential model (e.g. `keras_version` ==\u001b[39;00m\n\u001b[1;32m    397\u001b[0m \u001b[38;5;66;03m# \"2.0.6\"), which is serialized in a different structure, for example\u001b[39;00m\n\u001b[1;32m    398\u001b[0m \u001b[38;5;66;03m# \"{'class_name': 'Sequential',\u001b[39;00m\n\u001b[1;32m    399\u001b[0m \u001b[38;5;66;03m#   'config': [{'class_name': 'Embedding', 'config': ...}, {}, ...]}\".\u001b[39;00m\n",
      "\u001b[0;31mValueError\u001b[0m: Unknown loss function: 'EvidentialRegressionLoss'. Please ensure you are using a `keras.utils.custom_object_scope` and that this object is included in the scope. See https://www.tensorflow.org/guide/keras/save_and_serialize#registering_the_custom_object for details."
     ]
    }
   ],
   "source": [
    "model_loaded = load_model('./test_model/model.h5', \n",
    "                   custom_objects={'DenseNormalGamma': DenseNormalGamma,\n",
    "                                   'loss': EvidentialRegressionLoss(conf['model']['evidential_coef'])})"
   ]
  },
  {
   "cell_type": "code",
   "execution_count": null,
   "id": "a73ab27f-149d-44bb-ae2a-572a392c1d6c",
   "metadata": {},
   "outputs": [],
   "source": []
  },
  {
   "cell_type": "code",
   "execution_count": null,
   "id": "0df84d15-eea1-4d58-a0f8-18563e328648",
   "metadata": {},
   "outputs": [],
   "source": [
    "# Predict and plot using the trained model\n",
    "# y_pred = model.predict(x_test_scaled, output_scaler)\n",
    "y_pred = model.predict(x_test)"
   ]
  },
  {
   "cell_type": "code",
   "execution_count": null,
   "id": "3ada5f4f-77c4-4d74-9711-ab70c56fda09",
   "metadata": {},
   "outputs": [],
   "source": [
    "def plot_predictions(x_train, y_train, x_test, y_test, y_pred, n_stds=4, kk=0):\n",
    "    x_test = x_test[:, 0]\n",
    "    # mu, v, alpha, beta = tf.split(y_pred, 4, axis=-1)\n",
    "    # mu = mu[:, 0]\n",
    "    # epi = np.sqrt(beta / (v * (alpha - 1)))\n",
    "    # epi = np.minimum(epi, 1e3)[:, 0]  # for visualization\n",
    "    # ale = np.sqrt(beta / (alpha - 1))[:, 0]\n",
    "    \n",
    "    mu, ale, epi = tf.split(y_pred, 3, axis=-1)\n",
    "    mu = mu[:, 0]\n",
    "    ale = ale[:, 0]\n",
    "    epi = epi[:, 0]\n",
    "    plt.figure(figsize=(5, 3), dpi=200)\n",
    "    plt.scatter(x_train, y_train, s=1., c='#463c3c', zorder=0, label=\"Train\")\n",
    "    plt.plot(x_test, y_test, 'r--', zorder=2, label=\"True\")\n",
    "    plt.plot(x_test, mu, color='#007cab', zorder=3, label=\"Pred\")\n",
    "    plt.plot([-4, -4], [-150, 150], 'k--', alpha=0.4, zorder=0)\n",
    "    plt.plot([+4, +4], [-150, 150], 'k--', alpha=0.4, zorder=0)\n",
    "    for k in np.arange(1, n_stds):\n",
    "        plt.fill_between(\n",
    "            x_test, (mu - k * epi), (mu + k * epi),\n",
    "            alpha=0.3,\n",
    "            edgecolor=None,\n",
    "            facecolor='#00aeef',\n",
    "            linewidth=0,\n",
    "            zorder=1,\n",
    "            label=\"Unc.\" if k == 0 else None)\n",
    "    plt.gca().set_ylim(-150, 150)\n",
    "    # plt.gca().set_ylim(-4, 4)\n",
    "\n",
    "    plt.gca().set_xlim(-7, 7)\n",
    "    plt.legend(loc=\"upper left\")\n",
    "    plt.show()\n",
    "    return mu, ale, epi\n",
    "\n",
    "mu, ale, epi = plot_predictions(x_train, y_train, x_test, y_test, y_pred)"
   ]
  },
  {
   "cell_type": "code",
   "execution_count": null,
   "id": "2dd65cf3-2f98-41a5-9d53-d8239382d856",
   "metadata": {},
   "outputs": [],
   "source": [
    "fig, axes = plt.subplots(1, 3, figsize=(14, 3))\n",
    "axes[1].plot(epi)\n",
    "axes[1].set_title('Epistemic Uncertainty (STD)')\n",
    "axes[2].plot(ale)\n",
    "axes[2].set_title('Aleatoric Uncertainty (STD)')\n",
    "axes[0].scatter(x_train, y_train, s=1., c='#463c3c', zorder=0, label=\"Train\")\n",
    "axes[0].plot(x_test, y_test, 'r--', zorder=2, label=\"True\")\n",
    "axes[0].plot(x_test, mu, color='#007cab', zorder=3, label=\"Pred\")\n",
    "axes[0].plot([-4, -4], [-150, 150], 'k--', alpha=0.4, zorder=0)\n",
    "axes[0].plot([+4, +4], [-150, 150], 'k--', alpha=0.4, zorder=0)\n",
    "\n",
    "epi_std = np.sqrt(epi)\n",
    "for k in np.arange(1, 4):\n",
    "    axes[0].fill_between(\n",
    "        x_test[:, 0], (mu - k * epi_std), (mu + k * epi_std),\n",
    "        alpha=0.3,\n",
    "        edgecolor=None,\n",
    "        facecolor='#00aeef',\n",
    "        linewidth=0,\n",
    "        zorder=1,\n",
    "        label=\"Unc.\" if k == 0 else None)\n",
    "axes[0].set_title('Epistemic Uncertainty (STD)')\n",
    "axes[0].set_ylim(-150, 150)\n",
    "axes[0].set_xlim(-7, 7)\n",
    "plt.show()\n",
    "# plt.savefig('/glade/scratch/cbecker/synthetic_uncertainty.png', dpi=200, bbox_inches='tight')"
   ]
  },
  {
   "cell_type": "code",
   "execution_count": null,
   "id": "9b5c34d3-e197-46c5-9519-f5ff4d8a661a",
   "metadata": {},
   "outputs": [],
   "source": [
    "y_pred = model.predict(x_test_scaled)\n",
    "mu = output_scaler.inverse_transform(y_pred[:, 0].reshape(-1, 1))\n",
    "v = input_scaler.inverse_transform(y_pred[:, 1].reshape(-1, 1))\n",
    "alpha = y_pred[:, 2]\n",
    "beta = y_pred[:, 3]\n",
    "ale = np.sqrt(beta / (alpha - 1))\n",
    "epi = ((beta / (v.squeeze() *(alpha - 1))))"
   ]
  },
  {
   "cell_type": "code",
   "execution_count": null,
   "id": "13174d73-c084-485d-9611-d4d5eaffda09",
   "metadata": {},
   "outputs": [],
   "source": [
    "y_pred = output_scaler.inverse_transform(model.predict(x_test_scaled))\n",
    "mu = y_pred[:, 0]\n",
    "v = y_pred[:, 1]\n",
    "alpha = y_pred[:, 2]\n",
    "beta = y_pred[:, 3]\n",
    "ale = np.sqrt(beta / (alpha - 1))\n",
    "epi = ((beta / (v.squeeze() *(alpha - 1))))"
   ]
  },
  {
   "cell_type": "code",
   "execution_count": null,
   "id": "6683273e-9e88-4713-8f43-e1afc72e4755",
   "metadata": {},
   "outputs": [],
   "source": [
    "plt.plot(v)"
   ]
  },
  {
   "cell_type": "code",
   "execution_count": null,
   "id": "213ed25e-3cd8-4381-8281-f96f5e358272",
   "metadata": {},
   "outputs": [],
   "source": [
    "plt.plot(ale)\n",
    "# plt.plot(epi)"
   ]
  },
  {
   "cell_type": "code",
   "execution_count": null,
   "id": "9d5ccca9-c0d1-44c5-9cb8-54cd19f8ab2c",
   "metadata": {},
   "outputs": [],
   "source": [
    "plt.plot(mu)"
   ]
  },
  {
   "cell_type": "code",
   "execution_count": null,
   "id": "90d92b30-0917-4ed9-8221-9b9a57a920fd",
   "metadata": {},
   "outputs": [],
   "source": [
    "# plt.plot(ale / v)\n",
    "plt.plot(ale)\n",
    "plt.plot(epi)"
   ]
  },
  {
   "cell_type": "code",
   "execution_count": null,
   "id": "4f287cae-70d3-4502-864d-c4338b857cb1",
   "metadata": {},
   "outputs": [],
   "source": [
    "mu, v, alpha, beta = tf.split(y_pred, 4, axis=-1) #np.var(y_train_scaled)\n",
    "\n",
    "ale = np.sqrt((beta / (alpha - 1)) * np.var(y_train))\n",
    "epi = np.sqrt((beta / (v * (alpha - 1))))\n",
    "\n",
    "plt.plot(ale)\n",
    "plt.plot(epi)"
   ]
  },
  {
   "cell_type": "code",
   "execution_count": null,
   "id": "f026c8ae-3cfa-4c3e-88d0-e6efc70e8efa",
   "metadata": {},
   "outputs": [],
   "source": [
    "plt.plot(ale-epi)"
   ]
  },
  {
   "cell_type": "code",
   "execution_count": null,
   "id": "8d7e7178-0a35-4154-a022-e2f730a0c24a",
   "metadata": {},
   "outputs": [],
   "source": [
    "d = my_data(-4, 4, 1000)[1]\n",
    "n = np.random.normal(0, 5).astype(np.float32)\n",
    "plt.plot(d+n)"
   ]
  },
  {
   "cell_type": "code",
   "execution_count": null,
   "id": "d71e3914-abc4-4450-8007-29b6c5109499",
   "metadata": {},
   "outputs": [],
   "source": [
    "mu, v, alpha, beta = tf.split(y_pred, 4, axis=-1)\n",
    "ale = np.sqrt(beta / (alpha - 1))\n",
    "epi = np.sqrt((beta / (v * (alpha - 1))))\n",
    "\n",
    "plt.plot(epi[200:600])\n",
    "# plt.plot(epi)"
   ]
  },
  {
   "cell_type": "code",
   "execution_count": null,
   "id": "71e7d035-755b-4958-964f-e72beab5300a",
   "metadata": {},
   "outputs": [],
   "source": [
    "def my_data(x_min, x_max, n, train=True):\n",
    "    x = np.linspace(x_min, x_max, n)\n",
    "    x = np.expand_dims(x, -1).astype(np.float32)\n",
    "\n",
    "    sigma = 3 * np.ones_like(x) if train else np.zeros_like(x)\n",
    "    y = x**3 + np.random.normal(0, sigma).astype(np.float32)\n",
    "    # noise2 = np.random.normal(0, 10, 200)\n",
    "    # t[400:500] = t[400:500] + noise2\n",
    "\n",
    "    return x, y"
   ]
  },
  {
   "cell_type": "code",
   "execution_count": null,
   "id": "3dc8bd44-22fb-45ed-99a3-fa2c2919f925",
   "metadata": {},
   "outputs": [],
   "source": [
    "plt.plot(my_data(-5, 5, 1000)[0])"
   ]
  },
  {
   "cell_type": "code",
   "execution_count": null,
   "id": "4df94fb3-a248-46e6-a1d4-df60edae83c4",
   "metadata": {},
   "outputs": [],
   "source": [
    "mean_ale = np.mean(ale)\n",
    "std_ale = np.std(ale)\n",
    "standard_ale = (ale - mean_ale) / std_ale\n",
    "\n",
    "mean_epi = np.mean(ale)\n",
    "std_epi = np.std(ale)\n",
    "standard_epi = (epi - mean_ale) / std_epi"
   ]
  },
  {
   "cell_type": "code",
   "execution_count": null,
   "id": "ac621895-1bfb-41f4-b1d2-d6b8b8e26c56",
   "metadata": {},
   "outputs": [],
   "source": [
    "std_ale"
   ]
  },
  {
   "cell_type": "code",
   "execution_count": null,
   "id": "c4030810-4f0c-4ea8-863f-5696a92052db",
   "metadata": {},
   "outputs": [],
   "source": [
    "plt.plot(standard_ale)"
   ]
  },
  {
   "cell_type": "code",
   "execution_count": null,
   "id": "6e32f966-1a2f-4d87-91c1-15a50d9fc53a",
   "metadata": {},
   "outputs": [],
   "source": [
    "plt.plot(ale / np.sqrt(v))"
   ]
  },
  {
   "cell_type": "code",
   "execution_count": null,
   "id": "d1e296ca-b1b2-4b97-aba6-8f3ef6dd813e",
   "metadata": {},
   "outputs": [],
   "source": [
    "plt.figure(figsize=(5, 3), dpi=200)\n",
    "k = 1\n",
    "mu, v, alpha, beta = tf.split(y_pred, 4, axis=-1)\n",
    "u = np.sqrt(beta / ((alpha - 1)))[:, 0]\n",
    "u = np.sqrt(beta / (v * (alpha - 1)))[:, 0]"
   ]
  },
  {
   "cell_type": "code",
   "execution_count": null,
   "id": "b0de8f27-2232-4b63-b3ed-128f1687cb3a",
   "metadata": {},
   "outputs": [],
   "source": [
    "plt.figure(figsize=(5, 3), dpi=200)\n",
    "k = 1\n",
    "mu, v, alpha, beta = tf.split(y_pred, 4, axis=-1)\n",
    "u = np.sqrt(beta / ((alpha - 1)))[:, 0]\n",
    "u = np.sqrt(beta / (v * (alpha - 1)))[:, 0]\n",
    "\n",
    "# var = np.minimum(var, 1e3)[:, 0]  # for visualization\n",
    "plt.plot(x_test[:, 0], y_test, 'r--', zorder=2, label=\"True\")\n",
    "plt.plot(x_test[:, 0], mu[:, 0], color='#007cab', zorder=3, label=\"Pred\")\n",
    "plt.plot([-4, -4], [-150, 150], 'k--', alpha=0.4, zorder=0)\n",
    "plt.plot([+4, +4], [-150, 150], 'k--', alpha=0.4, zorder=0)\n",
    "plt.fill_between(\n",
    "    x_test[:, 0], (mu[:, 0] - k * u), (mu[:, 0] + k * u),\n",
    "    alpha=0.3,\n",
    "    edgecolor=None,\n",
    "    facecolor='#00aeef',\n",
    "    linewidth=0,\n",
    "    zorder=1,\n",
    "    label=\"Unc.\" if k == 0 else None)\n",
    "plt.gca().set_ylim(-150, 150)\n",
    "plt.gca().set_xlim(-7, 7)\n",
    "plt.legend(loc=\"upper left\")\n",
    "plt.show()"
   ]
  },
  {
   "cell_type": "code",
   "execution_count": null,
   "id": "6afd803c-8021-4de8-a13f-4a8c57a8cb15",
   "metadata": {},
   "outputs": [],
   "source": [
    "mu, v, alpha, beta = tf.split(y_pred, 4, axis=-1)"
   ]
  },
  {
   "cell_type": "code",
   "execution_count": null,
   "id": "c20def2c-7dd3-4555-8b5f-2dd678eccf56",
   "metadata": {},
   "outputs": [],
   "source": [
    "plt.plot(x_test, v)"
   ]
  },
  {
   "cell_type": "code",
   "execution_count": null,
   "id": "714f3ead-9c4f-499b-ba13-0f310d2d2015",
   "metadata": {},
   "outputs": [],
   "source": [
    "a = np.sqrt(beta / ((alpha - 1)))[:, 0]\n",
    "e = np.sqrt(beta / (v * (alpha - 1)))[:, 0]"
   ]
  },
  {
   "cell_type": "code",
   "execution_count": null,
   "id": "04c039f6-467d-4142-9c94-41696c12b7dc",
   "metadata": {},
   "outputs": [],
   "source": [
    "plt.plot(a)\n",
    "plt.plot(e)\n"
   ]
  },
  {
   "cell_type": "code",
   "execution_count": null,
   "id": "ae55419b-db50-409c-bd5d-0ef681f36cac",
   "metadata": {},
   "outputs": [],
   "source": [
    "plt.plot(e)"
   ]
  },
  {
   "cell_type": "code",
   "execution_count": null,
   "id": "1008f39e-617e-49bc-99bd-36acfd956f34",
   "metadata": {},
   "outputs": [],
   "source": [
    "plt.plot(beta)"
   ]
  },
  {
   "cell_type": "code",
   "execution_count": null,
   "id": "534ccdb0-3725-4187-9e51-dfb066e0a7e1",
   "metadata": {},
   "outputs": [],
   "source": [
    "plt.plot(alpha)"
   ]
  },
  {
   "cell_type": "code",
   "execution_count": null,
   "id": "0143a969-a142-4303-8972-adffd9a1cd98",
   "metadata": {},
   "outputs": [],
   "source": [
    "plt.plot(v)"
   ]
  },
  {
   "cell_type": "code",
   "execution_count": null,
   "id": "0c23e6e0-adbf-4cea-9cae-8f9a31538ba8",
   "metadata": {},
   "outputs": [],
   "source": []
  }
 ],
 "metadata": {
  "kernelspec": {
   "display_name": "Python [conda env:.conda-evidential]",
   "language": "python",
   "name": "conda-env-.conda-evidential-py"
  },
  "language_info": {
   "codemirror_mode": {
    "name": "ipython",
    "version": 3
   },
   "file_extension": ".py",
   "mimetype": "text/x-python",
   "name": "python",
   "nbconvert_exporter": "python",
   "pygments_lexer": "ipython3",
   "version": "3.8.15"
  }
 },
 "nbformat": 4,
 "nbformat_minor": 5
}
