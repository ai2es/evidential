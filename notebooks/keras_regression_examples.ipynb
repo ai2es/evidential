{
 "cells": [
  {
   "cell_type": "code",
   "execution_count": 1,
   "metadata": {},
   "outputs": [
    {
     "name": "stderr",
     "output_type": "stream",
     "text": [
      "2022-11-08 13:41:37.474740: I tensorflow/stream_executor/platform/default/dso_loader.cc:53] Successfully opened dynamic library libcudart.so.11.0\n"
     ]
    }
   ],
   "source": [
    "import numpy as np\n",
    "import pandas as pd\n",
    "import tensorflow as tf\n",
    "import gc, tqdm, copy\n",
    "\n",
    "import seaborn as sns\n",
    "import matplotlib.pyplot as plt\n",
    "\n",
    "from sklearn.model_selection import train_test_split, GroupShuffleSplit\n",
    "from sklearn.preprocessing import StandardScaler, MinMaxScaler, RobustScaler\n",
    "\n",
    "from functools import partial"
   ]
  },
  {
   "cell_type": "markdown",
   "metadata": {},
   "source": [
    "### A. Examples for estimating uncertainty"
   ]
  },
  {
   "cell_type": "code",
   "execution_count": 2,
   "metadata": {},
   "outputs": [],
   "source": [
    "fn = \"/glade/p/cisl/aiml/ai2es/surfacelayer/idaho_derived_data_20210720.csv\""
   ]
  },
  {
   "cell_type": "code",
   "execution_count": 3,
   "metadata": {},
   "outputs": [],
   "source": [
    "input_cols = [\n",
    "    'wind_speed:10_m:m_s-1',\n",
    "    'potential_temperature_skin_change:10_m:K_m-1',\n",
    "    'bulk_richardson:10_m:None',\n",
    "    'mixing_ratio_skin_change:2_m:g_kg-1_m-1'\n",
    "]\n",
    "output_cols = [\"kinematic_sensible_heat_flux:surface:K_m_s-1\"]"
   ]
  },
  {
   "cell_type": "code",
   "execution_count": 4,
   "metadata": {},
   "outputs": [],
   "source": [
    "data_seed = 0\n",
    "flat_seed = 1000\n",
    "n_splits = 10\n",
    "n_models = 10\n",
    "\n",
    "data = pd.read_csv(fn)\n",
    "data[\"day\"] = data[\"Time\"].apply(lambda x: str(x).split(\" \")[0])\n",
    "\n",
    "# Need the same test_data for all trained models (data and model ensembles)\n",
    "flat_seed = 1000\n",
    "gsp = GroupShuffleSplit(n_splits=1,  random_state = flat_seed, train_size=0.9)\n",
    "splits = list(gsp.split(data, groups = data[\"day\"]))\n",
    "train_index, test_index = splits[0]\n",
    "train_data, test_data = data.iloc[train_index].copy(), data.iloc[test_index].copy() \n",
    "\n",
    "# Make N train-valid splits using day as grouping variable\n",
    "gsp = GroupShuffleSplit(n_splits=n_splits,  random_state = flat_seed, train_size=0.885)\n",
    "splits = list(gsp.split(train_data, groups = train_data[\"day\"]))\n",
    "train_index, valid_index = splits[data_seed]\n",
    "train_data, valid_data = train_data.iloc[train_index].copy(), train_data.iloc[valid_index] .copy()  \n",
    "\n",
    "# Set the seed for the model here\n",
    "#seed_everything(model_seed)"
   ]
  },
  {
   "cell_type": "code",
   "execution_count": 5,
   "metadata": {},
   "outputs": [],
   "source": [
    "x_scaler, y_scaler = RobustScaler(), MinMaxScaler((0, 1))\n",
    "x_train = x_scaler.fit_transform(train_data[input_cols])\n",
    "x_valid = x_scaler.transform(valid_data[input_cols])\n",
    "x_test = x_scaler.transform(test_data[input_cols])\n",
    "\n",
    "y_train = y_scaler.fit_transform(train_data[output_cols])\n",
    "y_valid = y_scaler.transform(valid_data[output_cols])\n",
    "y_test = y_scaler.transform(test_data[output_cols])"
   ]
  },
  {
   "cell_type": "markdown",
   "metadata": {},
   "source": [
    "### 1. Standard MLP to predict some quantity"
   ]
  },
  {
   "cell_type": "code",
   "execution_count": 6,
   "metadata": {},
   "outputs": [
    {
     "name": "stderr",
     "output_type": "stream",
     "text": [
      "2022-11-08 13:43:10.378646: I tensorflow/stream_executor/platform/default/dso_loader.cc:53] Successfully opened dynamic library libcuda.so.1\n",
      "2022-11-08 13:43:10.654290: E tensorflow/stream_executor/cuda/cuda_driver.cc:328] failed call to cuInit: CUDA_ERROR_NO_DEVICE: no CUDA-capable device is detected\n",
      "2022-11-08 13:43:10.654339: I tensorflow/stream_executor/cuda/cuda_diagnostics.cc:156] kernel driver does not appear to be running on this host (crhtc60): /proc/driver/nvidia/version does not exist\n",
      "2022-11-08 13:43:10.654986: I tensorflow/core/platform/cpu_feature_guard.cc:142] This TensorFlow binary is optimized with oneAPI Deep Neural Network Library (oneDNN) to use the following CPU instructions in performance-critical operations:  AVX2 AVX512F FMA\n",
      "To enable them in other operations, rebuild TensorFlow with the appropriate compiler flags.\n"
     ]
    }
   ],
   "source": [
    "# Write it this way to make it easy for MC dropout\n",
    "\n",
    "class MLP(tf.keras.Model):\n",
    "\n",
    "    def __init__(self):\n",
    "        super().__init__()\n",
    "        self.dense1 = tf.keras.layers.Dense(4500, activation=tf.nn.relu)\n",
    "        self.dense2 = tf.keras.layers.Dense(1, activation=\"linear\")\n",
    "        self.dropout = tf.keras.layers.Dropout(0.25)\n",
    "\n",
    "    def call(self, inputs, training=False):\n",
    "        x = self.dense1(inputs)\n",
    "        if training:\n",
    "            x = self.dropout(x, training=training)\n",
    "        return self.dense2(x)\n",
    "\n",
    "mlp = MLP()"
   ]
  },
  {
   "cell_type": "code",
   "execution_count": 7,
   "metadata": {},
   "outputs": [],
   "source": [
    "optimizer = tf.keras.optimizers.Adam(\n",
    "    learning_rate=1e-5\n",
    ")"
   ]
  },
  {
   "cell_type": "code",
   "execution_count": 8,
   "metadata": {},
   "outputs": [],
   "source": [
    "# compile model\n",
    "mlp.compile(\n",
    "    optimizer = optimizer, \n",
    "    loss = \"mae\",\n",
    "    metrics = ['mae'],\n",
    "    run_eagerly=True\n",
    ")"
   ]
  },
  {
   "cell_type": "code",
   "execution_count": 9,
   "metadata": {},
   "outputs": [],
   "source": [
    "# create early stopping callback\n",
    "callback1 = tf.keras.callbacks.EarlyStopping(\n",
    "    monitor = 'val_mae', \n",
    "    mode = 'min',\n",
    "    patience = 15,\n",
    "    restore_best_weights = True\n",
    ")\n",
    "\n",
    "# create reduce LR callback\n",
    "callback2 = tf.keras.callbacks.ReduceLROnPlateau(\n",
    "    monitor = 'val_mae', \n",
    "    factor = 0.1, \n",
    "    patience = 3, \n",
    "    verbose = 0,\n",
    "    mode = 'min',\n",
    "    min_lr = 1e-7\n",
    ")"
   ]
  },
  {
   "cell_type": "code",
   "execution_count": 10,
   "metadata": {},
   "outputs": [
    {
     "name": "stderr",
     "output_type": "stream",
     "text": [
      "2022-11-08 13:43:19.171892: I tensorflow/compiler/mlir/mlir_graph_optimization_pass.cc:176] None of the MLIR Optimization Passes are enabled (registered 2)\n",
      "2022-11-08 13:43:19.172330: I tensorflow/core/platform/profile_utils/cpu_utils.cc:114] CPU Frequency: 2600000000 Hz\n"
     ]
    }
   ],
   "source": [
    "# fit model to training data\n",
    "history = mlp.fit(\n",
    "    x = x_train, \n",
    "    y = y_train,\n",
    "    validation_data = (x_valid, y_valid),\n",
    "    batch_size = 256,\n",
    "    epochs = 500,\n",
    "    callbacks = [callback1, callback2],\n",
    "    verbose = 0\n",
    ")"
   ]
  },
  {
   "cell_type": "code",
   "execution_count": 11,
   "metadata": {},
   "outputs": [],
   "source": [
    "y_pred = y_scaler.inverse_transform(mlp.predict(x_test))"
   ]
  },
  {
   "cell_type": "code",
   "execution_count": 12,
   "metadata": {},
   "outputs": [],
   "source": [
    "mae = np.mean(np.abs(y_pred[:, 0]-test_data[output_cols[0]]))"
   ]
  },
  {
   "cell_type": "code",
   "execution_count": 13,
   "metadata": {},
   "outputs": [
    {
     "data": {
      "text/plain": [
       "0.015715922887919984"
      ]
     },
     "execution_count": 13,
     "metadata": {},
     "output_type": "execute_result"
    }
   ],
   "source": [
    "mae"
   ]
  },
  {
   "cell_type": "code",
   "execution_count": 14,
   "metadata": {},
   "outputs": [],
   "source": [
    "# del model\n",
    "# tf.keras.backend.clear_session()\n",
    "# gc.collect()"
   ]
  },
  {
   "cell_type": "markdown",
   "metadata": {},
   "source": [
    "### 2. Next, take it one step further with a model for predicting mu and sigma with Gaussian NLL loss"
   ]
  },
  {
   "cell_type": "code",
   "execution_count": 14,
   "metadata": {},
   "outputs": [],
   "source": [
    "def NLL(y_true, y_pred, reduce = True):\n",
    "    A = 0.5 * tf.math.log(2 * np.pi * y_pred[:, 1] + 1e-12) \n",
    "    B = (y_true[:, 0] - y_pred[:, 0]) ** 2 / (2 * y_pred[:, 1] ** 2 + 1e-12)\n",
    "    nll = A + B\n",
    "    return tf.reduce_mean(nll) if reduce else nll\n",
    "\n",
    "def Gaussian_NLL(y, mu, sigma, reduce=True):\n",
    "    ax = list(range(1, len(y.shape)))\n",
    "    logprob = -tf.math.log(sigma) - 0.5*tf.math.log(2*np.pi) - 0.5*((y-mu)/sigma)**2\n",
    "    loss = tf.reduce_mean(-logprob, axis=ax)\n",
    "    return tf.reduce_mean(loss) if reduce else loss\n",
    "\n",
    "def Gaussian_NLL_logvar(y, mu, logvar, reduce=True):\n",
    "    ax = list(range(1, len(y.shape)))\n",
    "    log_liklihood = 0.5 * (\n",
    "        -tf.exp(-logvar)*(mu-y)**2 - tf.math.log(2*tf.constant(np.pi, dtype=logvar.dtype)) - logvar\n",
    "    )\n",
    "    loss = tf.reduce_mean(-log_liklihood, axis=ax)\n",
    "    return tf.reduce_mean(loss) if reduce else loss"
   ]
  },
  {
   "cell_type": "code",
   "execution_count": 15,
   "metadata": {},
   "outputs": [],
   "source": [
    "data_seed = 0\n",
    "flat_seed = 1000\n",
    "\n",
    "data = pd.read_csv(fn)\n",
    "data[\"day\"] = data[\"Time\"].apply(lambda x: str(x).split(\" \")[0])\n",
    "\n",
    "# Need the same test_data for all trained models (data and model ensembles)\n",
    "gsp = GroupShuffleSplit(n_splits=1,  random_state = flat_seed, train_size=0.9)\n",
    "splits = list(gsp.split(data, groups = data[\"day\"]))\n",
    "train_index, test_index = splits[0]\n",
    "train_data, test_data = data.iloc[train_index].copy(), data.iloc[test_index].copy() \n",
    "\n",
    "# Make N train-valid splits using day as grouping variable\n",
    "gsp = GroupShuffleSplit(n_splits=n_splits,  random_state = flat_seed, train_size=0.885)\n",
    "splits = list(gsp.split(train_data, groups = train_data[\"day\"]))\n",
    "train_index, valid_index = splits[data_seed]\n",
    "train_data, valid_data = train_data.iloc[train_index].copy(), train_data.iloc[valid_index] .copy()  \n",
    "\n",
    "x_scaler, y_scaler = RobustScaler(), MinMaxScaler((0, 1))\n",
    "x_train = x_scaler.fit_transform(train_data[input_cols])\n",
    "x_valid = x_scaler.transform(valid_data[input_cols])\n",
    "x_test = x_scaler.transform(test_data[input_cols])\n",
    "\n",
    "y_train = y_scaler.fit_transform(train_data[output_cols])\n",
    "y_valid = y_scaler.transform(valid_data[output_cols])\n",
    "y_test = y_scaler.transform(test_data[output_cols])"
   ]
  },
  {
   "cell_type": "code",
   "execution_count": 58,
   "metadata": {},
   "outputs": [],
   "source": [
    "class DenseNormal(tf.keras.layers.Layer):\n",
    "    def __init__(self, units):\n",
    "        super(DenseNormal, self).__init__()\n",
    "        self.units = int(units)\n",
    "        self.dense = Dense(2 * self.units)\n",
    "\n",
    "    def call(self, x):\n",
    "        output = self.dense(x)\n",
    "        mu, logsigma = tf.split(output, 2, axis=-1)\n",
    "        sigma = tf.nn.softplus(logsigma) + 1e-6\n",
    "        return tf.concat([mu, sigma], axis=-1)\n",
    "\n",
    "    def compute_output_shape(self, input_shape):\n",
    "        return (input_shape[0], 2 * self.units)\n",
    "\n",
    "    def get_config(self):\n",
    "        base_config = super(DenseNormal, self).get_config()\n",
    "        base_config['units'] = self.units\n",
    "        return base_config\n",
    "\n",
    "\n",
    "model = tf.keras.Sequential(\n",
    "    [\n",
    "        tf.keras.layers.Dense(units = 4500, activation = 'relu'),\n",
    "        tf.keras.layers.Dropout(0.0),\n",
    "        tf.keras.layers.Dense(units = 2, activation = 'sigmoid'),\n",
    "        #DenseNormalGamma(1)\n",
    "    ]\n",
    ")"
   ]
  },
  {
   "cell_type": "code",
   "execution_count": 59,
   "metadata": {},
   "outputs": [],
   "source": [
    "optimizer = tf.keras.optimizers.Adam(\n",
    "    learning_rate=1e-5\n",
    ")"
   ]
  },
  {
   "cell_type": "code",
   "execution_count": 60,
   "metadata": {},
   "outputs": [],
   "source": [
    "# compile model\n",
    "model.compile(\n",
    "    optimizer = optimizer, \n",
    "    loss = NLL,\n",
    "    metrics = ['mae'],\n",
    "    run_eagerly=True\n",
    ")"
   ]
  },
  {
   "cell_type": "code",
   "execution_count": 61,
   "metadata": {},
   "outputs": [],
   "source": [
    "# create early stopping callback\n",
    "callback1 = tf.keras.callbacks.EarlyStopping(\n",
    "    monitor = 'val_mae', \n",
    "    mode = 'min',\n",
    "    patience = 15,\n",
    "    restore_best_weights = True\n",
    ")\n",
    "\n",
    "# create reduce LR callback\n",
    "callback2 = tf.keras.callbacks.ReduceLROnPlateau(\n",
    "    monitor = 'val_mae', \n",
    "    factor = 0.1, \n",
    "    patience = 3, \n",
    "    verbose = 0,\n",
    "    mode = 'min',\n",
    "    min_lr = 1e-7\n",
    ")"
   ]
  },
  {
   "cell_type": "code",
   "execution_count": 62,
   "metadata": {},
   "outputs": [
    {
     "name": "stdout",
     "output_type": "stream",
     "text": [
      "Epoch 1/500\n",
      "116/116 - 1s - loss: 25949862.0000 - mae: 0.2466 - val_loss: 0.6922 - val_mae: 0.2481\n",
      "Epoch 2/500\n",
      "116/116 - 1s - loss: 6977095.5000 - mae: 0.2468 - val_loss: 0.6874 - val_mae: 0.2486\n",
      "Epoch 3/500\n",
      "116/116 - 1s - loss: 6976988.0000 - mae: 0.2472 - val_loss: 0.6860 - val_mae: 0.2487\n",
      "Epoch 4/500\n",
      "116/116 - 1s - loss: 6976861.0000 - mae: 0.2473 - val_loss: 0.6850 - val_mae: 0.2487\n",
      "Epoch 5/500\n",
      "116/116 - 1s - loss: 6976750.0000 - mae: 0.2473 - val_loss: 0.6849 - val_mae: 0.2487\n",
      "Epoch 6/500\n",
      "116/116 - 1s - loss: 6976739.5000 - mae: 0.2473 - val_loss: 0.6848 - val_mae: 0.2488\n",
      "Epoch 7/500\n",
      "116/116 - 1s - loss: 6976727.5000 - mae: 0.2473 - val_loss: 0.6847 - val_mae: 0.2488\n",
      "Epoch 8/500\n",
      "116/116 - 1s - loss: 6976717.0000 - mae: 0.2474 - val_loss: 0.6846 - val_mae: 0.2488\n",
      "Epoch 9/500\n",
      "116/116 - 1s - loss: 6976716.5000 - mae: 0.2474 - val_loss: 0.6846 - val_mae: 0.2488\n",
      "Epoch 10/500\n",
      "116/116 - 1s - loss: 6976716.0000 - mae: 0.2474 - val_loss: 0.6846 - val_mae: 0.2488\n",
      "Epoch 11/500\n",
      "116/116 - 1s - loss: 6976715.5000 - mae: 0.2474 - val_loss: 0.6846 - val_mae: 0.2488\n",
      "Epoch 12/500\n",
      "116/116 - 1s - loss: 6976715.5000 - mae: 0.2474 - val_loss: 0.6846 - val_mae: 0.2488\n",
      "Epoch 13/500\n",
      "116/116 - 1s - loss: 6976713.5000 - mae: 0.2474 - val_loss: 0.6846 - val_mae: 0.2488\n",
      "Epoch 14/500\n",
      "116/116 - 1s - loss: 6976714.0000 - mae: 0.2474 - val_loss: 0.6846 - val_mae: 0.2488\n",
      "Epoch 15/500\n",
      "116/116 - 1s - loss: 6976712.5000 - mae: 0.2474 - val_loss: 0.6846 - val_mae: 0.2488\n",
      "Epoch 16/500\n",
      "116/116 - 1s - loss: 6976711.5000 - mae: 0.2474 - val_loss: 0.6846 - val_mae: 0.2488\n"
     ]
    }
   ],
   "source": [
    "# fit model to training data\n",
    "history = model.fit(\n",
    "    x = x_train, \n",
    "    y = y_train,\n",
    "    validation_data = (x_valid, y_valid),\n",
    "    batch_size = 256,\n",
    "    epochs = 500,\n",
    "    callbacks = [callback1, callback2],\n",
    "    verbose = 2\n",
    ")"
   ]
  },
  {
   "cell_type": "code",
   "execution_count": 63,
   "metadata": {},
   "outputs": [],
   "source": [
    "y_pred = model.predict(x_test)"
   ]
  },
  {
   "cell_type": "code",
   "execution_count": 44,
   "metadata": {},
   "outputs": [],
   "source": [
    "# compute variance and std from learned parameters\n",
    "mu, var = (y_pred[:, i] for i in range(y_pred.shape[1]))"
   ]
  },
  {
   "cell_type": "code",
   "execution_count": 64,
   "metadata": {},
   "outputs": [
    {
     "data": {
      "text/plain": [
       "0.010781968922241677"
      ]
     },
     "execution_count": 64,
     "metadata": {},
     "output_type": "execute_result"
    }
   ],
   "source": [
    "train_data[output_cols].var().to_numpy()[0]"
   ]
  },
  {
   "cell_type": "code",
   "execution_count": 66,
   "metadata": {},
   "outputs": [
    {
     "ename": "ValueError",
     "evalue": "Found array with dim 3. None expected <= 2.",
     "output_type": "error",
     "traceback": [
      "\u001b[0;31m---------------------------------------------------------------------------\u001b[0m",
      "\u001b[0;31mValueError\u001b[0m                                Traceback (most recent call last)",
      "Input \u001b[0;32mIn [66]\u001b[0m, in \u001b[0;36m<cell line: 1>\u001b[0;34m()\u001b[0m\n\u001b[0;32m----> 1\u001b[0m mu \u001b[38;5;241m=\u001b[39m \u001b[43my_scaler\u001b[49m\u001b[38;5;241;43m.\u001b[39;49m\u001b[43minverse_transform\u001b[49m\u001b[43m(\u001b[49m\u001b[43mnp\u001b[49m\u001b[38;5;241;43m.\u001b[39;49m\u001b[43mexpand_dims\u001b[49m\u001b[43m(\u001b[49m\u001b[43mmu\u001b[49m\u001b[43m,\u001b[49m\u001b[43m \u001b[49m\u001b[43maxis\u001b[49m\u001b[43m \u001b[49m\u001b[38;5;241;43m=\u001b[39;49m\u001b[43m \u001b[49m\u001b[38;5;241;43m1\u001b[39;49m\u001b[43m)\u001b[49m\u001b[43m)\u001b[49m\u001b[38;5;241m.\u001b[39msqueeze(\u001b[38;5;241m-\u001b[39m\u001b[38;5;241m1\u001b[39m)\n\u001b[1;32m      2\u001b[0m var \u001b[38;5;241m=\u001b[39m np\u001b[38;5;241m.\u001b[39mexpand_dims(var, axis \u001b[38;5;241m=\u001b[39m \u001b[38;5;241m1\u001b[39m)\u001b[38;5;241m.\u001b[39msqueeze(\u001b[38;5;241m-\u001b[39m\u001b[38;5;241m1\u001b[39m)\n\u001b[1;32m      3\u001b[0m var \u001b[38;5;241m*\u001b[39m\u001b[38;5;241m=\u001b[39m train_data[output_cols]\u001b[38;5;241m.\u001b[39mvar()\u001b[38;5;241m.\u001b[39mto_numpy()[\u001b[38;5;241m0\u001b[39m]\n",
      "File \u001b[0;32m/glade/work/dgagne/miniconda3/envs/risk/lib/python3.8/site-packages/sklearn/preprocessing/_data.py:528\u001b[0m, in \u001b[0;36mMinMaxScaler.inverse_transform\u001b[0;34m(self, X)\u001b[0m\n\u001b[1;32m    514\u001b[0m \u001b[38;5;124;03m\"\"\"Undo the scaling of X according to feature_range.\u001b[39;00m\n\u001b[1;32m    515\u001b[0m \n\u001b[1;32m    516\u001b[0m \u001b[38;5;124;03mParameters\u001b[39;00m\n\u001b[0;32m   (...)\u001b[0m\n\u001b[1;32m    524\u001b[0m \u001b[38;5;124;03m    Transformed data.\u001b[39;00m\n\u001b[1;32m    525\u001b[0m \u001b[38;5;124;03m\"\"\"\u001b[39;00m\n\u001b[1;32m    526\u001b[0m check_is_fitted(\u001b[38;5;28mself\u001b[39m)\n\u001b[0;32m--> 528\u001b[0m X \u001b[38;5;241m=\u001b[39m \u001b[43mcheck_array\u001b[49m\u001b[43m(\u001b[49m\n\u001b[1;32m    529\u001b[0m \u001b[43m    \u001b[49m\u001b[43mX\u001b[49m\u001b[43m,\u001b[49m\u001b[43m \u001b[49m\u001b[43mcopy\u001b[49m\u001b[38;5;241;43m=\u001b[39;49m\u001b[38;5;28;43mself\u001b[39;49m\u001b[38;5;241;43m.\u001b[39;49m\u001b[43mcopy\u001b[49m\u001b[43m,\u001b[49m\u001b[43m \u001b[49m\u001b[43mdtype\u001b[49m\u001b[38;5;241;43m=\u001b[39;49m\u001b[43mFLOAT_DTYPES\u001b[49m\u001b[43m,\u001b[49m\u001b[43m \u001b[49m\u001b[43mforce_all_finite\u001b[49m\u001b[38;5;241;43m=\u001b[39;49m\u001b[38;5;124;43m\"\u001b[39;49m\u001b[38;5;124;43mallow-nan\u001b[39;49m\u001b[38;5;124;43m\"\u001b[39;49m\n\u001b[1;32m    530\u001b[0m \u001b[43m\u001b[49m\u001b[43m)\u001b[49m\n\u001b[1;32m    532\u001b[0m X \u001b[38;5;241m-\u001b[39m\u001b[38;5;241m=\u001b[39m \u001b[38;5;28mself\u001b[39m\u001b[38;5;241m.\u001b[39mmin_\n\u001b[1;32m    533\u001b[0m X \u001b[38;5;241m/\u001b[39m\u001b[38;5;241m=\u001b[39m \u001b[38;5;28mself\u001b[39m\u001b[38;5;241m.\u001b[39mscale_\n",
      "File \u001b[0;32m/glade/work/dgagne/miniconda3/envs/risk/lib/python3.8/site-packages/sklearn/utils/validation.py:893\u001b[0m, in \u001b[0;36mcheck_array\u001b[0;34m(array, accept_sparse, accept_large_sparse, dtype, order, copy, force_all_finite, ensure_2d, allow_nd, ensure_min_samples, ensure_min_features, estimator, input_name)\u001b[0m\n\u001b[1;32m    887\u001b[0m     \u001b[38;5;28;01mraise\u001b[39;00m \u001b[38;5;167;01mValueError\u001b[39;00m(\n\u001b[1;32m    888\u001b[0m         \u001b[38;5;124m\"\u001b[39m\u001b[38;5;124mdtype=\u001b[39m\u001b[38;5;124m'\u001b[39m\u001b[38;5;124mnumeric\u001b[39m\u001b[38;5;124m'\u001b[39m\u001b[38;5;124m is not compatible with arrays of bytes/strings.\u001b[39m\u001b[38;5;124m\"\u001b[39m\n\u001b[1;32m    889\u001b[0m         \u001b[38;5;124m\"\u001b[39m\u001b[38;5;124mConvert your data to numeric values explicitly instead.\u001b[39m\u001b[38;5;124m\"\u001b[39m\n\u001b[1;32m    890\u001b[0m     )\n\u001b[1;32m    892\u001b[0m \u001b[38;5;28;01mif\u001b[39;00m \u001b[38;5;129;01mnot\u001b[39;00m allow_nd \u001b[38;5;129;01mand\u001b[39;00m array\u001b[38;5;241m.\u001b[39mndim \u001b[38;5;241m>\u001b[39m\u001b[38;5;241m=\u001b[39m \u001b[38;5;241m3\u001b[39m:\n\u001b[0;32m--> 893\u001b[0m     \u001b[38;5;28;01mraise\u001b[39;00m \u001b[38;5;167;01mValueError\u001b[39;00m(\n\u001b[1;32m    894\u001b[0m         \u001b[38;5;124m\"\u001b[39m\u001b[38;5;124mFound array with dim \u001b[39m\u001b[38;5;132;01m%d\u001b[39;00m\u001b[38;5;124m. \u001b[39m\u001b[38;5;132;01m%s\u001b[39;00m\u001b[38;5;124m expected <= 2.\u001b[39m\u001b[38;5;124m\"\u001b[39m\n\u001b[1;32m    895\u001b[0m         \u001b[38;5;241m%\u001b[39m (array\u001b[38;5;241m.\u001b[39mndim, estimator_name)\n\u001b[1;32m    896\u001b[0m     )\n\u001b[1;32m    898\u001b[0m \u001b[38;5;28;01mif\u001b[39;00m force_all_finite:\n\u001b[1;32m    899\u001b[0m     _assert_all_finite(\n\u001b[1;32m    900\u001b[0m         array,\n\u001b[1;32m    901\u001b[0m         input_name\u001b[38;5;241m=\u001b[39minput_name,\n\u001b[1;32m    902\u001b[0m         estimator_name\u001b[38;5;241m=\u001b[39mestimator_name,\n\u001b[1;32m    903\u001b[0m         allow_nan\u001b[38;5;241m=\u001b[39mforce_all_finite \u001b[38;5;241m==\u001b[39m \u001b[38;5;124m\"\u001b[39m\u001b[38;5;124mallow-nan\u001b[39m\u001b[38;5;124m\"\u001b[39m,\n\u001b[1;32m    904\u001b[0m     )\n",
      "\u001b[0;31mValueError\u001b[0m: Found array with dim 3. None expected <= 2."
     ]
    }
   ],
   "source": [
    "mu = y_scaler.inverse_transform(np.expand_dims(mu, axis = 1)).squeeze(-1)\n",
    "var = np.expand_dims(var, axis = 1).squeeze(-1)\n",
    "var *= train_data[output_cols].var().to_numpy()[0]"
   ]
  },
  {
   "cell_type": "code",
   "execution_count": 67,
   "metadata": {},
   "outputs": [
    {
     "ename": "ValueError",
     "evalue": "Data must be 1-dimensional",
     "output_type": "error",
     "traceback": [
      "\u001b[0;31m---------------------------------------------------------------------------\u001b[0m",
      "\u001b[0;31mValueError\u001b[0m                                Traceback (most recent call last)",
      "Input \u001b[0;32mIn [67]\u001b[0m, in \u001b[0;36m<cell line: 1>\u001b[0;34m()\u001b[0m\n\u001b[0;32m----> 1\u001b[0m mae \u001b[38;5;241m=\u001b[39m np\u001b[38;5;241m.\u001b[39mmean(np\u001b[38;5;241m.\u001b[39mabs(\u001b[43mmu\u001b[49m\u001b[38;5;241;43m-\u001b[39;49m\u001b[43mtest_data\u001b[49m\u001b[43m[\u001b[49m\u001b[43moutput_cols\u001b[49m\u001b[43m[\u001b[49m\u001b[38;5;241;43m0\u001b[39;49m\u001b[43m]\u001b[49m\u001b[43m]\u001b[49m))\n\u001b[1;32m      2\u001b[0m \u001b[38;5;28mprint\u001b[39m(mae, np\u001b[38;5;241m.\u001b[39mmean(var) \u001b[38;5;241m*\u001b[39m\u001b[38;5;241m*\u001b[39m (\u001b[38;5;241m1\u001b[39m\u001b[38;5;241m/\u001b[39m\u001b[38;5;241m2\u001b[39m))\n",
      "File \u001b[0;32m/glade/work/dgagne/miniconda3/envs/risk/lib/python3.8/site-packages/pandas/core/generic.py:2101\u001b[0m, in \u001b[0;36mNDFrame.__array_ufunc__\u001b[0;34m(self, ufunc, method, *inputs, **kwargs)\u001b[0m\n\u001b[1;32m   2097\u001b[0m \u001b[38;5;129m@final\u001b[39m\n\u001b[1;32m   2098\u001b[0m \u001b[38;5;28;01mdef\u001b[39;00m \u001b[38;5;21m__array_ufunc__\u001b[39m(\n\u001b[1;32m   2099\u001b[0m     \u001b[38;5;28mself\u001b[39m, ufunc: np\u001b[38;5;241m.\u001b[39mufunc, method: \u001b[38;5;28mstr\u001b[39m, \u001b[38;5;241m*\u001b[39minputs: Any, \u001b[38;5;241m*\u001b[39m\u001b[38;5;241m*\u001b[39mkwargs: Any\n\u001b[1;32m   2100\u001b[0m ):\n\u001b[0;32m-> 2101\u001b[0m     \u001b[38;5;28;01mreturn\u001b[39;00m \u001b[43marraylike\u001b[49m\u001b[38;5;241;43m.\u001b[39;49m\u001b[43marray_ufunc\u001b[49m\u001b[43m(\u001b[49m\u001b[38;5;28;43mself\u001b[39;49m\u001b[43m,\u001b[49m\u001b[43m \u001b[49m\u001b[43mufunc\u001b[49m\u001b[43m,\u001b[49m\u001b[43m \u001b[49m\u001b[43mmethod\u001b[49m\u001b[43m,\u001b[49m\u001b[43m \u001b[49m\u001b[38;5;241;43m*\u001b[39;49m\u001b[43minputs\u001b[49m\u001b[43m,\u001b[49m\u001b[43m \u001b[49m\u001b[38;5;241;43m*\u001b[39;49m\u001b[38;5;241;43m*\u001b[39;49m\u001b[43mkwargs\u001b[49m\u001b[43m)\u001b[49m\n",
      "File \u001b[0;32m/glade/work/dgagne/miniconda3/envs/risk/lib/python3.8/site-packages/pandas/core/arraylike.py:263\u001b[0m, in \u001b[0;36marray_ufunc\u001b[0;34m(self, ufunc, method, *inputs, **kwargs)\u001b[0m\n\u001b[1;32m    260\u001b[0m     \u001b[38;5;28;01mreturn\u001b[39;00m result\n\u001b[1;32m    262\u001b[0m \u001b[38;5;66;03m# for binary ops, use our custom dunder methods\u001b[39;00m\n\u001b[0;32m--> 263\u001b[0m result \u001b[38;5;241m=\u001b[39m \u001b[43mmaybe_dispatch_ufunc_to_dunder_op\u001b[49m\u001b[43m(\u001b[49m\u001b[38;5;28;43mself\u001b[39;49m\u001b[43m,\u001b[49m\u001b[43m \u001b[49m\u001b[43mufunc\u001b[49m\u001b[43m,\u001b[49m\u001b[43m \u001b[49m\u001b[43mmethod\u001b[49m\u001b[43m,\u001b[49m\u001b[43m \u001b[49m\u001b[38;5;241;43m*\u001b[39;49m\u001b[43minputs\u001b[49m\u001b[43m,\u001b[49m\u001b[43m \u001b[49m\u001b[38;5;241;43m*\u001b[39;49m\u001b[38;5;241;43m*\u001b[39;49m\u001b[43mkwargs\u001b[49m\u001b[43m)\u001b[49m\n\u001b[1;32m    264\u001b[0m \u001b[38;5;28;01mif\u001b[39;00m result \u001b[38;5;129;01mis\u001b[39;00m \u001b[38;5;129;01mnot\u001b[39;00m \u001b[38;5;28mNotImplemented\u001b[39m:\n\u001b[1;32m    265\u001b[0m     \u001b[38;5;28;01mreturn\u001b[39;00m result\n",
      "File \u001b[0;32m/glade/work/dgagne/miniconda3/envs/risk/lib/python3.8/site-packages/pandas/_libs/ops_dispatch.pyx:113\u001b[0m, in \u001b[0;36mpandas._libs.ops_dispatch.maybe_dispatch_ufunc_to_dunder_op\u001b[0;34m()\u001b[0m\n",
      "File \u001b[0;32m/glade/work/dgagne/miniconda3/envs/risk/lib/python3.8/site-packages/pandas/core/ops/common.py:70\u001b[0m, in \u001b[0;36m_unpack_zerodim_and_defer.<locals>.new_method\u001b[0;34m(self, other)\u001b[0m\n\u001b[1;32m     66\u001b[0m             \u001b[38;5;28;01mreturn\u001b[39;00m \u001b[38;5;28mNotImplemented\u001b[39m\n\u001b[1;32m     68\u001b[0m other \u001b[38;5;241m=\u001b[39m item_from_zerodim(other)\n\u001b[0;32m---> 70\u001b[0m \u001b[38;5;28;01mreturn\u001b[39;00m \u001b[43mmethod\u001b[49m\u001b[43m(\u001b[49m\u001b[38;5;28;43mself\u001b[39;49m\u001b[43m,\u001b[49m\u001b[43m \u001b[49m\u001b[43mother\u001b[49m\u001b[43m)\u001b[49m\n",
      "File \u001b[0;32m/glade/work/dgagne/miniconda3/envs/risk/lib/python3.8/site-packages/pandas/core/arraylike.py:112\u001b[0m, in \u001b[0;36mOpsMixin.__rsub__\u001b[0;34m(self, other)\u001b[0m\n\u001b[1;32m    110\u001b[0m \u001b[38;5;129m@unpack_zerodim_and_defer\u001b[39m(\u001b[38;5;124m\"\u001b[39m\u001b[38;5;124m__rsub__\u001b[39m\u001b[38;5;124m\"\u001b[39m)\n\u001b[1;32m    111\u001b[0m \u001b[38;5;28;01mdef\u001b[39;00m \u001b[38;5;21m__rsub__\u001b[39m(\u001b[38;5;28mself\u001b[39m, other):\n\u001b[0;32m--> 112\u001b[0m     \u001b[38;5;28;01mreturn\u001b[39;00m \u001b[38;5;28;43mself\u001b[39;49m\u001b[38;5;241;43m.\u001b[39;49m\u001b[43m_arith_method\u001b[49m\u001b[43m(\u001b[49m\u001b[43mother\u001b[49m\u001b[43m,\u001b[49m\u001b[43m \u001b[49m\u001b[43mroperator\u001b[49m\u001b[38;5;241;43m.\u001b[39;49m\u001b[43mrsub\u001b[49m\u001b[43m)\u001b[49m\n",
      "File \u001b[0;32m/glade/work/dgagne/miniconda3/envs/risk/lib/python3.8/site-packages/pandas/core/series.py:5639\u001b[0m, in \u001b[0;36mSeries._arith_method\u001b[0;34m(self, other, op)\u001b[0m\n\u001b[1;32m   5637\u001b[0m \u001b[38;5;28;01mdef\u001b[39;00m \u001b[38;5;21m_arith_method\u001b[39m(\u001b[38;5;28mself\u001b[39m, other, op):\n\u001b[1;32m   5638\u001b[0m     \u001b[38;5;28mself\u001b[39m, other \u001b[38;5;241m=\u001b[39m ops\u001b[38;5;241m.\u001b[39malign_method_SERIES(\u001b[38;5;28mself\u001b[39m, other)\n\u001b[0;32m-> 5639\u001b[0m     \u001b[38;5;28;01mreturn\u001b[39;00m \u001b[43mbase\u001b[49m\u001b[38;5;241;43m.\u001b[39;49m\u001b[43mIndexOpsMixin\u001b[49m\u001b[38;5;241;43m.\u001b[39;49m\u001b[43m_arith_method\u001b[49m\u001b[43m(\u001b[49m\u001b[38;5;28;43mself\u001b[39;49m\u001b[43m,\u001b[49m\u001b[43m \u001b[49m\u001b[43mother\u001b[49m\u001b[43m,\u001b[49m\u001b[43m \u001b[49m\u001b[43mop\u001b[49m\u001b[43m)\u001b[49m\n",
      "File \u001b[0;32m/glade/work/dgagne/miniconda3/envs/risk/lib/python3.8/site-packages/pandas/core/base.py:1297\u001b[0m, in \u001b[0;36mIndexOpsMixin._arith_method\u001b[0;34m(self, other, op)\u001b[0m\n\u001b[1;32m   1294\u001b[0m \u001b[38;5;28;01mwith\u001b[39;00m np\u001b[38;5;241m.\u001b[39merrstate(\u001b[38;5;28mall\u001b[39m\u001b[38;5;241m=\u001b[39m\u001b[38;5;124m\"\u001b[39m\u001b[38;5;124mignore\u001b[39m\u001b[38;5;124m\"\u001b[39m):\n\u001b[1;32m   1295\u001b[0m     result \u001b[38;5;241m=\u001b[39m ops\u001b[38;5;241m.\u001b[39marithmetic_op(lvalues, rvalues, op)\n\u001b[0;32m-> 1297\u001b[0m \u001b[38;5;28;01mreturn\u001b[39;00m \u001b[38;5;28;43mself\u001b[39;49m\u001b[38;5;241;43m.\u001b[39;49m\u001b[43m_construct_result\u001b[49m\u001b[43m(\u001b[49m\u001b[43mresult\u001b[49m\u001b[43m,\u001b[49m\u001b[43m \u001b[49m\u001b[43mname\u001b[49m\u001b[38;5;241;43m=\u001b[39;49m\u001b[43mres_name\u001b[49m\u001b[43m)\u001b[49m\n",
      "File \u001b[0;32m/glade/work/dgagne/miniconda3/envs/risk/lib/python3.8/site-packages/pandas/core/series.py:3017\u001b[0m, in \u001b[0;36mSeries._construct_result\u001b[0;34m(self, result, name)\u001b[0m\n\u001b[1;32m   3013\u001b[0m     \u001b[38;5;28;01mreturn\u001b[39;00m (res1, res2)\n\u001b[1;32m   3015\u001b[0m \u001b[38;5;66;03m# We do not pass dtype to ensure that the Series constructor\u001b[39;00m\n\u001b[1;32m   3016\u001b[0m \u001b[38;5;66;03m#  does inference in the case where `result` has object-dtype.\u001b[39;00m\n\u001b[0;32m-> 3017\u001b[0m out \u001b[38;5;241m=\u001b[39m \u001b[38;5;28;43mself\u001b[39;49m\u001b[38;5;241;43m.\u001b[39;49m\u001b[43m_constructor\u001b[49m\u001b[43m(\u001b[49m\u001b[43mresult\u001b[49m\u001b[43m,\u001b[49m\u001b[43m \u001b[49m\u001b[43mindex\u001b[49m\u001b[38;5;241;43m=\u001b[39;49m\u001b[38;5;28;43mself\u001b[39;49m\u001b[38;5;241;43m.\u001b[39;49m\u001b[43mindex\u001b[49m\u001b[43m)\u001b[49m\n\u001b[1;32m   3018\u001b[0m out \u001b[38;5;241m=\u001b[39m out\u001b[38;5;241m.\u001b[39m__finalize__(\u001b[38;5;28mself\u001b[39m)\n\u001b[1;32m   3020\u001b[0m \u001b[38;5;66;03m# Set the result's name after __finalize__ is called because __finalize__\u001b[39;00m\n\u001b[1;32m   3021\u001b[0m \u001b[38;5;66;03m#  would set it back to self.name\u001b[39;00m\n",
      "File \u001b[0;32m/glade/work/dgagne/miniconda3/envs/risk/lib/python3.8/site-packages/pandas/core/series.py:451\u001b[0m, in \u001b[0;36mSeries.__init__\u001b[0;34m(self, data, index, dtype, name, copy, fastpath)\u001b[0m\n\u001b[1;32m    449\u001b[0m         data \u001b[38;5;241m=\u001b[39m data\u001b[38;5;241m.\u001b[39mcopy()\n\u001b[1;32m    450\u001b[0m \u001b[38;5;28;01melse\u001b[39;00m:\n\u001b[0;32m--> 451\u001b[0m     data \u001b[38;5;241m=\u001b[39m \u001b[43msanitize_array\u001b[49m\u001b[43m(\u001b[49m\u001b[43mdata\u001b[49m\u001b[43m,\u001b[49m\u001b[43m \u001b[49m\u001b[43mindex\u001b[49m\u001b[43m,\u001b[49m\u001b[43m \u001b[49m\u001b[43mdtype\u001b[49m\u001b[43m,\u001b[49m\u001b[43m \u001b[49m\u001b[43mcopy\u001b[49m\u001b[43m)\u001b[49m\n\u001b[1;32m    453\u001b[0m     manager \u001b[38;5;241m=\u001b[39m get_option(\u001b[38;5;124m\"\u001b[39m\u001b[38;5;124mmode.data_manager\u001b[39m\u001b[38;5;124m\"\u001b[39m)\n\u001b[1;32m    454\u001b[0m     \u001b[38;5;28;01mif\u001b[39;00m manager \u001b[38;5;241m==\u001b[39m \u001b[38;5;124m\"\u001b[39m\u001b[38;5;124mblock\u001b[39m\u001b[38;5;124m\"\u001b[39m:\n",
      "File \u001b[0;32m/glade/work/dgagne/miniconda3/envs/risk/lib/python3.8/site-packages/pandas/core/construction.py:601\u001b[0m, in \u001b[0;36msanitize_array\u001b[0;34m(data, index, dtype, copy, raise_cast_failure, allow_2d)\u001b[0m\n\u001b[1;32m    598\u001b[0m             subarr \u001b[38;5;241m=\u001b[39m cast(np\u001b[38;5;241m.\u001b[39mndarray, subarr)\n\u001b[1;32m    599\u001b[0m             subarr \u001b[38;5;241m=\u001b[39m maybe_infer_to_datetimelike(subarr)\n\u001b[0;32m--> 601\u001b[0m subarr \u001b[38;5;241m=\u001b[39m \u001b[43m_sanitize_ndim\u001b[49m\u001b[43m(\u001b[49m\u001b[43msubarr\u001b[49m\u001b[43m,\u001b[49m\u001b[43m \u001b[49m\u001b[43mdata\u001b[49m\u001b[43m,\u001b[49m\u001b[43m \u001b[49m\u001b[43mdtype\u001b[49m\u001b[43m,\u001b[49m\u001b[43m \u001b[49m\u001b[43mindex\u001b[49m\u001b[43m,\u001b[49m\u001b[43m \u001b[49m\u001b[43mallow_2d\u001b[49m\u001b[38;5;241;43m=\u001b[39;49m\u001b[43mallow_2d\u001b[49m\u001b[43m)\u001b[49m\n\u001b[1;32m    603\u001b[0m \u001b[38;5;28;01mif\u001b[39;00m \u001b[38;5;28misinstance\u001b[39m(subarr, np\u001b[38;5;241m.\u001b[39mndarray):\n\u001b[1;32m    604\u001b[0m     \u001b[38;5;66;03m# at this point we should have dtype be None or subarr.dtype == dtype\u001b[39;00m\n\u001b[1;32m    605\u001b[0m     dtype \u001b[38;5;241m=\u001b[39m cast(np\u001b[38;5;241m.\u001b[39mdtype, dtype)\n",
      "File \u001b[0;32m/glade/work/dgagne/miniconda3/envs/risk/lib/python3.8/site-packages/pandas/core/construction.py:652\u001b[0m, in \u001b[0;36m_sanitize_ndim\u001b[0;34m(result, data, dtype, index, allow_2d)\u001b[0m\n\u001b[1;32m    650\u001b[0m     \u001b[38;5;28;01mif\u001b[39;00m allow_2d:\n\u001b[1;32m    651\u001b[0m         \u001b[38;5;28;01mreturn\u001b[39;00m result\n\u001b[0;32m--> 652\u001b[0m     \u001b[38;5;28;01mraise\u001b[39;00m \u001b[38;5;167;01mValueError\u001b[39;00m(\u001b[38;5;124m\"\u001b[39m\u001b[38;5;124mData must be 1-dimensional\u001b[39m\u001b[38;5;124m\"\u001b[39m)\n\u001b[1;32m    653\u001b[0m \u001b[38;5;28;01mif\u001b[39;00m is_object_dtype(dtype) \u001b[38;5;129;01mand\u001b[39;00m \u001b[38;5;28misinstance\u001b[39m(dtype, ExtensionDtype):\n\u001b[1;32m    654\u001b[0m     \u001b[38;5;66;03m# i.e. PandasDtype(\"O\")\u001b[39;00m\n\u001b[1;32m    656\u001b[0m     result \u001b[38;5;241m=\u001b[39m com\u001b[38;5;241m.\u001b[39masarray_tuplesafe(data, dtype\u001b[38;5;241m=\u001b[39mnp\u001b[38;5;241m.\u001b[39mdtype(\u001b[38;5;124m\"\u001b[39m\u001b[38;5;124mobject\u001b[39m\u001b[38;5;124m\"\u001b[39m))\n",
      "\u001b[0;31mValueError\u001b[0m: Data must be 1-dimensional"
     ]
    }
   ],
   "source": [
    "mae = np.mean(np.abs(mu-test_data[output_cols[0]]))\n",
    "print(mae, np.mean(var) ** (1/2))"
   ]
  },
  {
   "cell_type": "code",
   "execution_count": 48,
   "metadata": {},
   "outputs": [],
   "source": [
    "sns.jointplot(x = test_data[output_cols[0]], y = mu, kind = 'hex')\n",
    "plt.xlabel('Target')\n",
    "plt.ylabel('Predicted Target')\n",
    "plt.show()"
   ]
  },
  {
   "cell_type": "code",
   "execution_count": 28,
   "metadata": {},
   "outputs": [
    {
     "data": {
      "image/png": "[encoded data removed]",
      "text/plain": [
       "<Figure size 432x432 with 3 Axes>"
      ]
     },
     "metadata": {
      "needs_background": "light"
     },
     "output_type": "display_data"
    }
   ],
   "source": [
    "sns.jointplot(x = mu, y = np.sqrt(var), kind = 'hex')\n",
    "plt.xlabel('Predicted mu')\n",
    "plt.ylabel('Predicted sigma')\n",
    "plt.show()"
   ]
  },
  {
   "cell_type": "code",
   "execution_count": 29,
   "metadata": {},
   "outputs": [],
   "source": [
    "# del model\n",
    "# tf.keras.backend.clear_session()\n",
    "# gc.collect()"
   ]
  },
  {
   "cell_type": "markdown",
   "metadata": {},
   "source": [
    "### B. Compute uncertanties "
   ]
  },
  {
   "cell_type": "markdown",
   "metadata": {},
   "source": [
    "### 1a. First with the standard model via MC dropout sampling"
   ]
  },
  {
   "cell_type": "code",
   "execution_count": 49,
   "metadata": {},
   "outputs": [],
   "source": [
    "def get_monte_carlo_predictions(x_test, \n",
    "                                forward_passes,\n",
    "                                model,\n",
    "                                n_samples):\n",
    "    \"\"\" Function to get the monte-carlo samples and uncertainty estimates\n",
    "    through multiple forward passes\n",
    "\n",
    "    Parameters\n",
    "    ----------\n",
    "    data_loader : object\n",
    "        data loader object from the data loader module\n",
    "    forward_passes : int\n",
    "        number of monte-carlo samples/forward passes\n",
    "    model : object\n",
    "        keras model\n",
    "    n_classes : int\n",
    "        number of classes in the dataset\n",
    "    n_samples : int\n",
    "        number of samples in the test set\n",
    "    \"\"\"\n",
    "\n",
    "    dropout_predictions = np.empty((0, n_samples, 1))\n",
    "    for i in range(forward_passes):\n",
    "        predictions = np.empty((0, 1))\n",
    "        output = y_scaler.inverse_transform(model.call(x_test, training=True))\n",
    "        predictions = np.vstack((predictions, output))\n",
    "        dropout_predictions = np.vstack((dropout_predictions,\n",
    "                                         predictions[np.newaxis, :, :]))\n",
    "        # dropout predictions - shape (forward_passes, n_samples, n_classes)\n",
    "    \n",
    "    # Calculating mean across multiple MCD forward passes \n",
    "    mean = np.mean(dropout_predictions, axis=0) # shape (n_samples, n_classes)\n",
    "\n",
    "    # Calculating variance across multiple MCD forward passes \n",
    "    variance = np.var(dropout_predictions, axis=0) # shape (n_samples, n_classes)\n",
    "    \n",
    "    return mean, variance"
   ]
  },
  {
   "cell_type": "code",
   "execution_count": 50,
   "metadata": {},
   "outputs": [],
   "source": [
    "forward_passes = 1000\n",
    "n_samples = x_test.shape[0]\n",
    "\n",
    "mu, sigma = get_monte_carlo_predictions(x_test,\n",
    "                                        forward_passes,\n",
    "                                        mlp,\n",
    "                                        n_samples)"
   ]
  },
  {
   "cell_type": "code",
   "execution_count": 51,
   "metadata": {},
   "outputs": [],
   "source": [
    "sns.jointplot(x = np.sqrt(sigma[:, 0]), y = test_data[output_cols[0]], kind = 'hex')\n",
    "plt.xlabel('Predicted uncertainty')\n",
    "plt.ylabel('True value')\n",
    "plt.show()"
   ]
  },
  {
   "cell_type": "markdown",
   "metadata": {},
   "source": [
    "### 1b. Create ensemble of ensembles with standard MLP to compute evidential components"
   ]
  },
  {
   "cell_type": "code",
   "execution_count": 52,
   "metadata": {},
   "outputs": [
    {
     "name": "stderr",
     "output_type": "stream",
     "text": [
      "100%|██████████| 10/10 [14:44<00:00, 88.45s/it]\n",
      "100%|██████████| 10/10 [15:40<00:00, 94.09s/it]\n",
      "100%|██████████| 10/10 [12:45<00:00, 76.50s/it]\n",
      "100%|██████████| 10/10 [17:40<00:00, 106.01s/it]\n",
      "100%|██████████| 10/10 [19:29<00:00, 116.98s/it]\n",
      "100%|██████████| 10/10 [16:16<00:00, 97.60s/it]\n",
      "100%|██████████| 10/10 [15:14<00:00, 91.47s/it]\n",
      "100%|██████████| 10/10 [16:43<00:00, 100.32s/it]\n",
      "100%|██████████| 10/10 [18:08<00:00, 108.85s/it]\n",
      "100%|██████████| 10/10 [13:34<00:00, 81.41s/it]\n"
     ]
    }
   ],
   "source": [
    "ensemble_mu = np.zeros((n_models, test_data.shape[0], 1))\n",
    "ensemble_sigma = np.zeros((n_models, test_data.shape[0], 1))\n",
    "\n",
    "for model_seed in range(n_models):\n",
    "\n",
    "    _model = MLP()\n",
    "    _ensemble_pred = np.zeros((n_splits, test_data.shape[0], 1))\n",
    "    \n",
    "    for data_seed in tqdm.tqdm(range(n_splits)):\n",
    "        data = pd.read_csv(fn)\n",
    "        data[\"day\"] = data[\"Time\"].apply(lambda x: str(x).split(\" \")[0])\n",
    "\n",
    "        # Need the same test_data for all trained models (data and model ensembles)\n",
    "        flat_seed = 1000\n",
    "        gsp = GroupShuffleSplit(n_splits=1,  random_state = flat_seed, train_size=0.9)\n",
    "        splits = list(gsp.split(data, groups = data[\"day\"]))\n",
    "        train_index, test_index = splits[0]\n",
    "        train_data, test_data = data.iloc[train_index].copy(), data.iloc[test_index].copy() \n",
    "\n",
    "        # Make N train-valid splits using day as grouping variable\n",
    "        gsp = GroupShuffleSplit(n_splits=n_splits,  random_state = flat_seed, train_size=0.885)\n",
    "        splits = list(gsp.split(train_data, groups = train_data[\"day\"]))\n",
    "        train_index, valid_index = splits[data_seed]\n",
    "        train_data, valid_data = train_data.iloc[train_index].copy(), train_data.iloc[valid_index] .copy()  \n",
    "\n",
    "        x_scaler, y_scaler = RobustScaler(), MinMaxScaler((0, 1))\n",
    "        x_train = x_scaler.fit_transform(train_data[input_cols])\n",
    "        x_valid = x_scaler.transform(valid_data[input_cols])\n",
    "        x_test = x_scaler.transform(test_data[input_cols])\n",
    "\n",
    "        y_train = y_scaler.fit_transform(train_data[output_cols])\n",
    "        y_valid = y_scaler.transform(valid_data[output_cols])\n",
    "        y_test = y_scaler.transform(test_data[output_cols])\n",
    "\n",
    "        optimizer = tf.keras.optimizers.Adam(\n",
    "            learning_rate=1e-5\n",
    "        )\n",
    "        \n",
    "        model = copy.deepcopy(_model)\n",
    "\n",
    "        # compile model\n",
    "        model.compile(\n",
    "            optimizer = optimizer, \n",
    "            loss = \"mae\",\n",
    "            metrics = ['mae'],\n",
    "            run_eagerly=True\n",
    "        )\n",
    "\n",
    "        callback1 = tf.keras.callbacks.EarlyStopping(\n",
    "            monitor = 'val_mae', \n",
    "            mode = 'min',\n",
    "            patience = 15,\n",
    "            restore_best_weights = True\n",
    "        )\n",
    "        callback2 = tf.keras.callbacks.ReduceLROnPlateau(\n",
    "            monitor = 'val_mae', \n",
    "            factor = 0.1, \n",
    "            patience = 3, \n",
    "            verbose = 0,\n",
    "            mode = 'min',\n",
    "            min_lr = 1e-7\n",
    "        )\n",
    "        # fit model to training data\n",
    "        history = model.fit(\n",
    "            x = x_train, \n",
    "            y = y_train,\n",
    "            validation_data = (x_valid, y_valid),\n",
    "            batch_size = 256,\n",
    "            epochs = 500,\n",
    "            callbacks = [callback1, callback2],\n",
    "            verbose = 0\n",
    "        )\n",
    "\n",
    "        _ensemble_pred[data_seed] = y_scaler.inverse_transform(model.predict(x_test))\n",
    "        \n",
    "        del model\n",
    "        tf.keras.backend.clear_session()\n",
    "        gc.collect()\n",
    "\n",
    "    ensemble_mu[model_seed] = np.mean(_ensemble_pred, 0)\n",
    "    ensemble_sigma[model_seed] = np.var(_ensemble_pred, 0)"
   ]
  },
  {
   "cell_type": "code",
   "execution_count": 34,
   "metadata": {},
   "outputs": [],
   "source": [
    "mlp_aleatoric = np.mean(ensemble_sigma, 0)\n",
    "mlp_epistemic = np.var(ensemble_mu, 0)"
   ]
  },
  {
   "cell_type": "code",
   "execution_count": 35,
   "metadata": {},
   "outputs": [
    {
     "name": "stdout",
     "output_type": "stream",
     "text": [
      "0.000542891349707717 0.0024902650909771557\n"
     ]
    }
   ],
   "source": [
    "print(mlp_epistemic.mean() ** (1/2), mlp_aleatoric.mean() ** (1/2))"
   ]
  },
  {
   "cell_type": "code",
   "execution_count": 36,
   "metadata": {},
   "outputs": [
    {
     "data": {
      "image/png": "[encoded data removed]",
      "text/plain": [
       "<Figure size 432x432 with 3 Axes>"
      ]
     },
     "metadata": {
      "needs_background": "light"
     },
     "output_type": "display_data"
    }
   ],
   "source": [
    "sns.jointplot(x = np.sqrt(mlp_epistemic[:, 0]), y = np.sqrt(mlp_aleatoric[:, 0]), kind = 'hex')\n",
    "plt.xlabel('Epistemic')\n",
    "plt.ylabel('Aleatoric')\n",
    "plt.show()"
   ]
  },
  {
   "cell_type": "markdown",
   "metadata": {},
   "source": [
    "### 2. Next with the Gaussian model, create a deep ensemble"
   ]
  },
  {
   "cell_type": "code",
   "execution_count": 37,
   "metadata": {},
   "outputs": [],
   "source": [
    "data_seed = 0\n",
    "gsp = GroupShuffleSplit(n_splits=1,  random_state = flat_seed, train_size=0.9)\n",
    "splits = list(gsp.split(data, groups = data[\"day\"]))\n",
    "train_index, test_index = splits[0]"
   ]
  },
  {
   "cell_type": "code",
   "execution_count": 38,
   "metadata": {},
   "outputs": [
    {
     "name": "stderr",
     "output_type": "stream",
     "text": [
      "100%|██████████| 10/10 [14:55<00:00, 89.55s/it]\n"
     ]
    }
   ],
   "source": [
    "ensemble_mu = np.zeros((n_splits, test_data.shape[0], 1))\n",
    "ensemble_var = np.zeros((n_splits, test_data.shape[0], 1))\n",
    "\n",
    "for data_seed in tqdm.tqdm(range(n_splits)):\n",
    "    data = pd.read_csv(fn)\n",
    "    data[\"day\"] = data[\"Time\"].apply(lambda x: str(x).split(\" \")[0])\n",
    "\n",
    "    # Need the same test_data for all trained models (data and model ensembles)\n",
    "    flat_seed = 1000\n",
    "    gsp = GroupShuffleSplit(n_splits=1,  random_state = flat_seed, train_size=0.9)\n",
    "    splits = list(gsp.split(data, groups = data[\"day\"]))\n",
    "    train_index, test_index = splits[0]\n",
    "    train_data, test_data = data.iloc[train_index].copy(), data.iloc[test_index].copy() \n",
    "\n",
    "    # Make N train-valid splits using day as grouping variable\n",
    "    gsp = GroupShuffleSplit(n_splits=n_splits,  random_state = flat_seed, train_size=0.885)\n",
    "    splits = list(gsp.split(train_data, groups = train_data[\"day\"]))\n",
    "    train_index, valid_index = splits[data_seed]\n",
    "    train_data, valid_data = train_data.iloc[train_index].copy(), train_data.iloc[valid_index] .copy()  \n",
    "\n",
    "    x_scaler, y_scaler = RobustScaler(), MinMaxScaler((0, 1))\n",
    "    x_train = x_scaler.fit_transform(train_data[input_cols])\n",
    "    x_valid = x_scaler.transform(valid_data[input_cols])\n",
    "    x_test = x_scaler.transform(test_data[input_cols])\n",
    "\n",
    "    y_train = y_scaler.fit_transform(train_data[output_cols])\n",
    "    y_valid = y_scaler.transform(valid_data[output_cols])\n",
    "    y_test = y_scaler.transform(test_data[output_cols])\n",
    "    \n",
    "    model = tf.keras.Sequential(\n",
    "        [\n",
    "            tf.keras.layers.Dense(units = 4500, activation = 'relu'),\n",
    "            #tf.keras.layers.Dropout(),\n",
    "            tf.keras.layers.Dense(units = 2, activation = 'sigmoid'),\n",
    "        ]\n",
    "    )\n",
    "    \n",
    "    optimizer = tf.keras.optimizers.Adam(\n",
    "        learning_rate=1e-5\n",
    "    )\n",
    "    \n",
    "    # compile model\n",
    "    model.compile(\n",
    "        optimizer = optimizer, \n",
    "        loss = NLL,\n",
    "        metrics = ['mae'],\n",
    "        run_eagerly=True\n",
    "    )\n",
    "    \n",
    "    callback1 = tf.keras.callbacks.EarlyStopping(\n",
    "        monitor = 'val_mae', \n",
    "        mode = 'min',\n",
    "        patience = 15,\n",
    "        restore_best_weights = True\n",
    "    )\n",
    "    callback2 = tf.keras.callbacks.ReduceLROnPlateau(\n",
    "        monitor = 'val_mae', \n",
    "        factor = 0.1, \n",
    "        patience = 3, \n",
    "        verbose = 0,\n",
    "        mode = 'min',\n",
    "        min_lr = 1e-7\n",
    "    )\n",
    "    # fit model to training data\n",
    "    history = model.fit(\n",
    "        x = x_train, \n",
    "        y = y_train,\n",
    "        validation_data = (x_valid, y_valid),\n",
    "        batch_size = 256,\n",
    "        epochs = 500,\n",
    "        callbacks = [callback1, callback2],\n",
    "        verbose = 0\n",
    "    )\n",
    "    \n",
    "    y_pred = model.predict(x_test)\n",
    "    mu, var = (y_pred[:, i] for i in range(y_pred.shape[1]))\n",
    "    mu = y_scaler.inverse_transform(np.expand_dims(mu, axis = 1)).squeeze(-1)\n",
    "    var = np.expand_dims(var, axis = 1).squeeze(-1)\n",
    "    var *= train_data[output_cols].var().to_numpy()[0]\n",
    "    mae = np.mean(np.abs(mu-test_data[output_cols[0]]))\n",
    "    \n",
    "    ensemble_mu[data_seed] = np.expand_dims(mu, 1)\n",
    "    ensemble_var[data_seed] = np.expand_dims(var, 1)\n",
    "    \n",
    "    del model\n",
    "    tf.keras.backend.clear_session()\n",
    "    gc.collect()"
   ]
  },
  {
   "cell_type": "code",
   "execution_count": 39,
   "metadata": {},
   "outputs": [],
   "source": [
    "epistemic = np.var(ensemble_mu, axis=0)\n",
    "aleatoric = np.mean(ensemble_var, axis=0)"
   ]
  },
  {
   "cell_type": "code",
   "execution_count": 40,
   "metadata": {},
   "outputs": [
    {
     "name": "stdout",
     "output_type": "stream",
     "text": [
      "0.04904076462552248 0.045809163832760035\n"
     ]
    }
   ],
   "source": [
    "print(epistemic.mean() ** (1/2), aleatoric.mean() ** (1/2))"
   ]
  },
  {
   "cell_type": "code",
   "execution_count": 41,
   "metadata": {},
   "outputs": [
    {
     "data": {
      "image/png": "[encoded data removed]",
      "text/plain": [
       "<Figure size 432x432 with 3 Axes>"
      ]
     },
     "metadata": {
      "needs_background": "light"
     },
     "output_type": "display_data"
    }
   ],
   "source": [
    "sns.jointplot(x = np.sqrt(epistemic[:, 0]), y = np.sqrt(aleatoric[:, 0]), kind = 'hex')\n",
    "plt.xlabel('Predicted epistemic')\n",
    "plt.ylabel('Predicted aleatoric')\n",
    "plt.show()"
   ]
  },
  {
   "cell_type": "code",
   "execution_count": 42,
   "metadata": {},
   "outputs": [
    {
     "data": {
      "image/png": "[encoded data removed]",
      "text/plain": [
       "<Figure size 432x432 with 3 Axes>"
      ]
     },
     "metadata": {
      "needs_background": "light"
     },
     "output_type": "display_data"
    }
   ],
   "source": [
    "sns.jointplot(x = np.sqrt(epistemic[:, 0]), y = test_data[output_cols[0]], kind = 'hex')\n",
    "plt.xlabel('Predicted epistemic uncertainty')\n",
    "plt.ylabel('True value')\n",
    "plt.show()"
   ]
  },
  {
   "cell_type": "markdown",
   "metadata": {},
   "source": [
    "### 3. Finally, with the normal inverse gamma approach for estimating evidential uncertainty"
   ]
  },
  {
   "cell_type": "code",
   "execution_count": 43,
   "metadata": {},
   "outputs": [],
   "source": [
    "class DenseNormalGamma(tf.keras.layers.Layer):\n",
    "    \"\"\"Implements dense layer for Deep Evidential Regression\n",
    "    \n",
    "    Reference: https://www.mit.edu/~amini/pubs/pdf/deep-evidential-regression.pdf\n",
    "    Source: https://github.com/aamini/evidential-deep-learning\n",
    "    \"\"\"\n",
    "    \n",
    "    def __init__(self, units):\n",
    "        super(DenseNormalGamma, self).__init__()\n",
    "        self.units = int(units)\n",
    "        self.dense = tf.keras.layers.Dense(4 * self.units, activation=None)\n",
    "\n",
    "    def evidence(self, x):\n",
    "        return tf.nn.softplus(x)\n",
    "\n",
    "    def call(self, x):\n",
    "        output = self.dense(x)\n",
    "        mu, logv, logalpha, logbeta = tf.split(output, 4, axis=-1)\n",
    "        v = self.evidence(logv)\n",
    "        alpha = self.evidence(logalpha) + 1\n",
    "        beta = self.evidence(logbeta)\n",
    "        return tf.concat([mu, v, alpha, beta], axis=-1)\n",
    "\n",
    "    def compute_output_shape(self, input_shape):\n",
    "        return (input_shape[0], 4 * self.units)\n",
    "\n",
    "    def get_config(self):\n",
    "        base_config = super(DenseNormalGamma, self).get_config()\n",
    "        base_config['units'] = self.units\n",
    "        return base_config"
   ]
  },
  {
   "cell_type": "code",
   "execution_count": 44,
   "metadata": {},
   "outputs": [],
   "source": [
    "def NIG_NLL(y, gamma, v, alpha, beta, reduce=True):\n",
    "    v += 1e-12\n",
    "    twoBlambda = 2*beta*(1+v) + 1e-12\n",
    "    nll = 0.5*tf.math.log(np.pi/v)  \\\n",
    "        - alpha*tf.math.log(twoBlambda)  \\\n",
    "        + (alpha+0.5) * tf.math.log(v*(y-gamma)**2 + twoBlambda)  \\\n",
    "        + tf.math.lgamma(alpha)  \\\n",
    "        - tf.math.lgamma(alpha+0.5)\n",
    "\n",
    "    return tf.reduce_mean(nll) if reduce else nll\n",
    "\n",
    "def NIG_Reg(y, gamma, v, alpha, beta, reduce=True):\n",
    "    error = tf.abs(y-gamma)\n",
    "    evi = 2*v+(alpha)\n",
    "    reg = error*evi\n",
    "\n",
    "    return tf.reduce_mean(reg) if reduce else reg\n",
    "\n",
    "def EvidentialRegression(y_true, evidential_output, coeff=1.0):\n",
    "    \"\"\"Implements loss for Deep Evidential Regression\n",
    "    \n",
    "    Reference: https://www.mit.edu/~amini/pubs/pdf/deep-evidential-regression.pdf\n",
    "    Source: https://github.com/aamini/evidential-deep-learning\n",
    "    \"\"\"\n",
    "    \n",
    "    gamma, v, alpha, beta = tf.split(evidential_output, 4, axis=-1)\n",
    "    loss_nll = NIG_NLL(y_true, gamma, v, alpha, beta)\n",
    "    loss_reg = NIG_Reg(y_true, gamma, v, alpha, beta)\n",
    "    return loss_nll + coeff * loss_reg"
   ]
  },
  {
   "cell_type": "code",
   "execution_count": 45,
   "metadata": {},
   "outputs": [],
   "source": [
    "data_seed = 0\n",
    "flat_seed = 1000\n",
    "\n",
    "data = pd.read_csv(fn)\n",
    "data[\"day\"] = data[\"Time\"].apply(lambda x: str(x).split(\" \")[0])\n",
    "\n",
    "# Need the same test_data for all trained models (data and model ensembles)\n",
    "gsp = GroupShuffleSplit(n_splits=1,  random_state = flat_seed, train_size=0.9)\n",
    "splits = list(gsp.split(data, groups = data[\"day\"]))\n",
    "train_index, test_index = splits[0]\n",
    "train_data, test_data = data.iloc[train_index].copy(), data.iloc[test_index].copy() \n",
    "\n",
    "# Make N train-valid splits using day as grouping variable\n",
    "gsp = GroupShuffleSplit(n_splits=n_splits,  random_state = flat_seed, train_size=0.885)\n",
    "splits = list(gsp.split(train_data, groups = train_data[\"day\"]))\n",
    "train_index, valid_index = splits[data_seed]\n",
    "train_data, valid_data = train_data.iloc[train_index].copy(), train_data.iloc[valid_index] .copy()  \n",
    "\n",
    "x_scaler, y_scaler = RobustScaler(), MinMaxScaler((0, 1))\n",
    "x_train = x_scaler.fit_transform(train_data[input_cols])\n",
    "x_valid = x_scaler.transform(valid_data[input_cols])\n",
    "x_test = x_scaler.transform(test_data[input_cols])\n",
    "\n",
    "y_train = y_scaler.fit_transform(train_data[output_cols])\n",
    "y_valid = y_scaler.transform(valid_data[output_cols])\n",
    "y_test = y_scaler.transform(test_data[output_cols])"
   ]
  },
  {
   "cell_type": "code",
   "execution_count": 46,
   "metadata": {},
   "outputs": [],
   "source": [
    "evm = tf.keras.Sequential(\n",
    "    [\n",
    "        tf.keras.layers.Dense(units = 4500, activation = 'relu'),\n",
    "        #tf.keras.layers.Dropout(),\n",
    "        DenseNormalGamma(1)\n",
    "    ]\n",
    ")"
   ]
  },
  {
   "cell_type": "code",
   "execution_count": 47,
   "metadata": {},
   "outputs": [],
   "source": [
    "optimizer = tf.keras.optimizers.Adam(\n",
    "    learning_rate=1e-5\n",
    ")"
   ]
  },
  {
   "cell_type": "code",
   "execution_count": 48,
   "metadata": {},
   "outputs": [],
   "source": [
    "loss = partial(EvidentialRegression, coeff=0.05)\n",
    "\n",
    "# compile model\n",
    "evm.compile(\n",
    "    optimizer = optimizer, \n",
    "    loss = loss,\n",
    "    metrics = ['mae']\n",
    ")"
   ]
  },
  {
   "cell_type": "code",
   "execution_count": 49,
   "metadata": {},
   "outputs": [],
   "source": [
    "callback1 = tf.keras.callbacks.EarlyStopping(\n",
    "    monitor = 'val_loss', \n",
    "    mode = 'min',\n",
    "    patience = 15,\n",
    "    restore_best_weights = True\n",
    ")\n",
    "\n",
    "# create reduce LR callback\n",
    "callback2 = tf.keras.callbacks.ReduceLROnPlateau(\n",
    "    monitor = 'val_loss', \n",
    "    factor = 0.1, \n",
    "    patience = 3, \n",
    "    verbose = 0,\n",
    "    mode = 'min'\n",
    ")"
   ]
  },
  {
   "cell_type": "code",
   "execution_count": 50,
   "metadata": {},
   "outputs": [],
   "source": [
    "# fit model to training data\n",
    "history = evm.fit(\n",
    "    x = x_train, \n",
    "    y = y_train,\n",
    "    validation_data = (x_valid, y_valid),\n",
    "    batch_size = 256,\n",
    "    epochs = 500,\n",
    "    callbacks = [callback1, callback2],\n",
    "    verbose = 0\n",
    ")"
   ]
  },
  {
   "cell_type": "code",
   "execution_count": 51,
   "metadata": {},
   "outputs": [],
   "source": [
    "y_pred = evm.predict(x_test)"
   ]
  },
  {
   "cell_type": "code",
   "execution_count": 52,
   "metadata": {},
   "outputs": [],
   "source": [
    "# compute variance and std from learned parameters\n",
    "mu, v, alpha, beta = (y_pred[:, i] for i in range(y_pred.shape[1]))\n",
    "var_a = beta / (alpha - 1)\n",
    "var_e = beta / (v * (alpha - 1))"
   ]
  },
  {
   "cell_type": "code",
   "execution_count": 53,
   "metadata": {},
   "outputs": [],
   "source": [
    "mu = y_scaler.inverse_transform(mu.reshape((mu.shape[0], -1)))\n",
    "var_a *= train_data[output_cols[0]].var()\n",
    "var_e *= train_data[output_cols[0]].var()"
   ]
  },
  {
   "cell_type": "code",
   "execution_count": 54,
   "metadata": {},
   "outputs": [
    {
     "name": "stdout",
     "output_type": "stream",
     "text": [
      "0.014671666517423652 0.0002717661906240611 0.0018595479 0.003198621\n"
     ]
    }
   ],
   "source": [
    "mae = np.mean(np.abs(mu[:, 0]-test_data[output_cols[0]]))\n",
    "var = np.var(np.abs(mu[:, 0]-test_data[output_cols[0]]))\n",
    "print(mae, var, np.sqrt(var_e).mean(), np.sqrt(var_a).mean())"
   ]
  },
  {
   "cell_type": "code",
   "execution_count": 55,
   "metadata": {},
   "outputs": [
    {
     "data": {
      "image/png": "[encoded data removed]",
      "text/plain": [
       "<Figure size 432x432 with 3 Axes>"
      ]
     },
     "metadata": {
      "needs_background": "light"
     },
     "output_type": "display_data"
    }
   ],
   "source": [
    "sns.jointplot(x = np.sqrt(var_e), y = np.sqrt(var_a), kind = 'hex')\n",
    "plt.xlabel('Predicted epistemic')\n",
    "plt.ylabel('Predicted aleatoric')\n",
    "plt.show()"
   ]
  },
  {
   "cell_type": "code",
   "execution_count": 56,
   "metadata": {},
   "outputs": [
    {
     "data": {
      "image/png": "[encoded data removed]",
      "text/plain": [
       "<Figure size 432x432 with 3 Axes>"
      ]
     },
     "metadata": {
      "needs_background": "light"
     },
     "output_type": "display_data"
    }
   ],
   "source": [
    "sns.jointplot(x = np.sqrt(var_e), y = test_data[output_cols[0]].to_numpy(), kind = 'hex')\n",
    "plt.xlabel('Predicted epistemic')\n",
    "plt.ylabel('True value')\n",
    "plt.show()"
   ]
  },
  {
   "cell_type": "code",
   "execution_count": null,
   "metadata": {},
   "outputs": [],
   "source": []
  }
 ],
 "metadata": {
  "kernelspec": {
   "display_name": "Python [conda env:miniconda3-risk]",
   "language": "python",
   "name": "conda-env-miniconda3-risk-py"
  },
  "language_info": {
   "codemirror_mode": {
    "name": "ipython",
    "version": 3
   },
   "file_extension": ".py",
   "mimetype": "text/x-python",
   "name": "python",
   "nbconvert_exporter": "python",
   "pygments_lexer": "ipython3",
   "version": "3.8.13"
  }
 },
 "nbformat": 4,
 "nbformat_minor": 4
}
